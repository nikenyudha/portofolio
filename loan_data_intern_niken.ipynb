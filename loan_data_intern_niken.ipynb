{
 "cells": [
  {
   "cell_type": "markdown",
   "id": "b10c8409-60df-4bf9-bc9c-cae63525dbb9",
   "metadata": {},
   "source": [
    "# Introduction"
   ]
  },
  {
   "cell_type": "markdown",
   "id": "15e98167-04fe-47df-b422-30e1d190d3af",
   "metadata": {},
   "source": [
    "In this Loan data I'll use supervised learning - classification "
   ]
  },
  {
   "cell_type": "markdown",
   "id": "51233926-7536-4af6-8ce3-b5696fd3db0a",
   "metadata": {},
   "source": [
    "We will see how the classification model can be used to find a credit risk prediction model. \n",
    "So that it can target prospective borrowers who meet the criteria and are profitable for the borrower."
   ]
  },
  {
   "cell_type": "markdown",
   "id": "ab5a850e-55c3-4a83-8487-6932935f556b",
   "metadata": {},
   "source": [
    "* Objective\n",
    "\n",
    "- menganalisis karakteristik loan customer\n",
    "- membuat model credit risk prediction model\n",
    "- mencoba merumuskan strategi pemasaran yang sesuai."
   ]
  },
  {
   "cell_type": "code",
   "execution_count": 1,
   "id": "7304b19b",
   "metadata": {},
   "outputs": [],
   "source": [
    "import pandas as pd\n",
    "import numpy as np\n",
    "import seaborn as sns\n",
    "import matplotlib.pyplot as plt"
   ]
  },
  {
   "cell_type": "code",
   "execution_count": 2,
   "id": "95c93d8d-83d5-4b5e-ac68-c15e82dd9b60",
   "metadata": {},
   "outputs": [],
   "source": [
    "filename = 'D:/INTERNSHIP/week 4/loan_data_2007_2014.csv'"
   ]
  },
  {
   "cell_type": "markdown",
   "id": "f608ee94-b29f-46e7-84dc-eca7777f3d39",
   "metadata": {},
   "source": [
    "## load data set"
   ]
  },
  {
   "cell_type": "code",
   "execution_count": 3,
   "id": "6f19c2fd-9fd7-464d-a426-0ee9544f6b21",
   "metadata": {},
   "outputs": [
    {
     "name": "stderr",
     "output_type": "stream",
     "text": [
      "C:\\Users\\HP\\AppData\\Local\\Temp\\ipykernel_6980\\406514733.py:2: DtypeWarning: Columns (20) have mixed types. Specify dtype option on import or set low_memory=False.\n",
      "  dataset = pd.read_csv(filename,na_values=na_simbol)\n"
     ]
    }
   ],
   "source": [
    "na_simbol = ['*','-','--','.','---',' ','n/a','Nan','nan', 0.0, 0]\n",
    "dataset = pd.read_csv(filename,na_values=na_simbol)\n"
   ]
  },
  {
   "cell_type": "code",
   "execution_count": 4,
   "id": "07222936-72da-44a5-83de-e13021a5689f",
   "metadata": {},
   "outputs": [
    {
     "name": "stdout",
     "output_type": "stream",
     "text": [
      "<class 'pandas.core.frame.DataFrame'>\n",
      "RangeIndex: 466285 entries, 0 to 466284\n",
      "Data columns (total 75 columns):\n",
      " #   Column                       Non-Null Count   Dtype  \n",
      "---  ------                       --------------   -----  \n",
      " 0   Unnamed: 0                   466284 non-null  float64\n",
      " 1   id                           466285 non-null  int64  \n",
      " 2   member_id                    466285 non-null  int64  \n",
      " 3   loan_amnt                    466285 non-null  int64  \n",
      " 4   funded_amnt                  466285 non-null  int64  \n",
      " 5   funded_amnt_inv              466052 non-null  float64\n",
      " 6   term                         466285 non-null  object \n",
      " 7   int_rate                     466285 non-null  float64\n",
      " 8   installment                  466285 non-null  float64\n",
      " 9   grade                        466285 non-null  object \n",
      " 10  sub_grade                    466285 non-null  object \n",
      " 11  emp_title                    438697 non-null  object \n",
      " 12  emp_length                   445277 non-null  object \n",
      " 13  home_ownership               466285 non-null  object \n",
      " 14  annual_inc                   466281 non-null  float64\n",
      " 15  verification_status          466285 non-null  object \n",
      " 16  issue_d                      466285 non-null  object \n",
      " 17  loan_status                  466285 non-null  object \n",
      " 18  pymnt_plan                   466285 non-null  object \n",
      " 19  url                          466285 non-null  object \n",
      " 20  desc                         125748 non-null  object \n",
      " 21  purpose                      466285 non-null  object \n",
      " 22  title                        466264 non-null  object \n",
      " 23  zip_code                     466285 non-null  object \n",
      " 24  addr_state                   466285 non-null  object \n",
      " 25  dti                          465922 non-null  float64\n",
      " 26  delinq_2yrs                  83302 non-null   float64\n",
      " 27  earliest_cr_line             466256 non-null  object \n",
      " 28  inq_last_6mths               224758 non-null  float64\n",
      " 29  mths_since_last_delinq       214711 non-null  float64\n",
      " 30  mths_since_last_record       61360 non-null   float64\n",
      " 31  open_acc                     466249 non-null  float64\n",
      " 32  pub_rec                      61363 non-null   float64\n",
      " 33  revol_bal                    464016 non-null  float64\n",
      " 34  revol_util                   463661 non-null  float64\n",
      " 35  total_acc                    466256 non-null  float64\n",
      " 36  initial_list_status          466285 non-null  object \n",
      " 37  out_prncp                    236286 non-null  float64\n",
      " 38  out_prncp_inv                236286 non-null  float64\n",
      " 39  total_pymnt                  466198 non-null  float64\n",
      " 40  total_pymnt_inv              465920 non-null  float64\n",
      " 41  total_rec_prncp              465886 non-null  float64\n",
      " 42  total_rec_int                465906 non-null  float64\n",
      " 43  total_rec_late_fee           10678 non-null   float64\n",
      " 44  recoveries                   24371 non-null   float64\n",
      " 45  collection_recovery_fee      23206 non-null   float64\n",
      " 46  last_pymnt_d                 465909 non-null  object \n",
      " 47  last_pymnt_amnt              465895 non-null  float64\n",
      " 48  next_pymnt_d                 239071 non-null  object \n",
      " 49  last_credit_pull_d           466243 non-null  object \n",
      " 50  collections_12_mths_ex_med   3914 non-null    float64\n",
      " 51  mths_since_last_major_derog  98895 non-null   float64\n",
      " 52  policy_code                  466285 non-null  int64  \n",
      " 53  application_type             466285 non-null  object \n",
      " 54  annual_inc_joint             0 non-null       float64\n",
      " 55  dti_joint                    0 non-null       float64\n",
      " 56  verification_status_joint    0 non-null       float64\n",
      " 57  acc_now_delinq               1732 non-null    float64\n",
      " 58  tot_coll_amt                 49750 non-null   float64\n",
      " 59  tot_cur_bal                  395931 non-null  float64\n",
      " 60  open_acc_6m                  0 non-null       float64\n",
      " 61  open_il_6m                   0 non-null       float64\n",
      " 62  open_il_12m                  0 non-null       float64\n",
      " 63  open_il_24m                  0 non-null       float64\n",
      " 64  mths_since_rcnt_il           0 non-null       float64\n",
      " 65  total_bal_il                 0 non-null       float64\n",
      " 66  il_util                      0 non-null       float64\n",
      " 67  open_rv_12m                  0 non-null       float64\n",
      " 68  open_rv_24m                  0 non-null       float64\n",
      " 69  max_bal_bc                   0 non-null       float64\n",
      " 70  all_util                     0 non-null       float64\n",
      " 71  total_rev_hi_lim             395854 non-null  float64\n",
      " 72  inq_fi                       0 non-null       float64\n",
      " 73  total_cu_tl                  0 non-null       float64\n",
      " 74  inq_last_12m                 0 non-null       float64\n",
      "dtypes: float64(48), int64(5), object(22)\n",
      "memory usage: 266.8+ MB\n"
     ]
    }
   ],
   "source": [
    "dataset.info()"
   ]
  },
  {
   "cell_type": "code",
   "execution_count": 41,
   "id": "b946f731-931f-4e5a-a306-8a7043a0428a",
   "metadata": {},
   "outputs": [
    {
     "data": {
      "text/plain": [
       "Index(['Unnamed: 0', 'id', 'member_id', 'loan_amnt', 'funded_amnt',\n",
       "       'funded_amnt_inv', 'term', 'int_rate', 'installment', 'grade',\n",
       "       'sub_grade', 'emp_title', 'emp_length', 'home_ownership', 'annual_inc',\n",
       "       'verification_status', 'issue_d', 'loan_status', 'pymnt_plan', 'url',\n",
       "       'desc', 'purpose', 'title', 'zip_code', 'addr_state', 'dti',\n",
       "       'delinq_2yrs', 'earliest_cr_line', 'inq_last_6mths',\n",
       "       'mths_since_last_delinq', 'mths_since_last_record', 'open_acc',\n",
       "       'pub_rec', 'revol_bal', 'revol_util', 'total_acc',\n",
       "       'initial_list_status', 'out_prncp', 'out_prncp_inv', 'total_pymnt',\n",
       "       'total_pymnt_inv', 'total_rec_prncp', 'total_rec_int',\n",
       "       'total_rec_late_fee', 'recoveries', 'collection_recovery_fee',\n",
       "       'last_pymnt_d', 'last_pymnt_amnt', 'next_pymnt_d', 'last_credit_pull_d',\n",
       "       'collections_12_mths_ex_med', 'mths_since_last_major_derog',\n",
       "       'policy_code', 'application_type', 'annual_inc_joint', 'dti_joint',\n",
       "       'verification_status_joint', 'acc_now_delinq', 'tot_coll_amt',\n",
       "       'tot_cur_bal', 'open_acc_6m', 'open_il_6m', 'open_il_12m',\n",
       "       'open_il_24m', 'mths_since_rcnt_il', 'total_bal_il', 'il_util',\n",
       "       'open_rv_12m', 'open_rv_24m', 'max_bal_bc', 'all_util',\n",
       "       'total_rev_hi_lim', 'inq_fi', 'total_cu_tl', 'inq_last_12m'],\n",
       "      dtype='object')"
      ]
     },
     "execution_count": 41,
     "metadata": {},
     "output_type": "execute_result"
    }
   ],
   "source": [
    "dataset.columns"
   ]
  },
  {
   "cell_type": "code",
   "execution_count": 5,
   "id": "dd36dd92-a87b-47e5-8e4b-23953b7be8d0",
   "metadata": {},
   "outputs": [
    {
     "data": {
      "text/html": [
       "<div>\n",
       "<style scoped>\n",
       "    .dataframe tbody tr th:only-of-type {\n",
       "        vertical-align: middle;\n",
       "    }\n",
       "\n",
       "    .dataframe tbody tr th {\n",
       "        vertical-align: top;\n",
       "    }\n",
       "\n",
       "    .dataframe thead th {\n",
       "        text-align: right;\n",
       "    }\n",
       "</style>\n",
       "<table border=\"1\" class=\"dataframe\">\n",
       "  <thead>\n",
       "    <tr style=\"text-align: right;\">\n",
       "      <th></th>\n",
       "      <th>Unnamed: 0</th>\n",
       "      <th>id</th>\n",
       "      <th>member_id</th>\n",
       "      <th>loan_amnt</th>\n",
       "      <th>funded_amnt</th>\n",
       "      <th>funded_amnt_inv</th>\n",
       "      <th>term</th>\n",
       "      <th>int_rate</th>\n",
       "      <th>installment</th>\n",
       "      <th>grade</th>\n",
       "      <th>...</th>\n",
       "      <th>total_bal_il</th>\n",
       "      <th>il_util</th>\n",
       "      <th>open_rv_12m</th>\n",
       "      <th>open_rv_24m</th>\n",
       "      <th>max_bal_bc</th>\n",
       "      <th>all_util</th>\n",
       "      <th>total_rev_hi_lim</th>\n",
       "      <th>inq_fi</th>\n",
       "      <th>total_cu_tl</th>\n",
       "      <th>inq_last_12m</th>\n",
       "    </tr>\n",
       "  </thead>\n",
       "  <tbody>\n",
       "    <tr>\n",
       "      <th>0</th>\n",
       "      <td>NaN</td>\n",
       "      <td>1077501</td>\n",
       "      <td>1296599</td>\n",
       "      <td>5000</td>\n",
       "      <td>5000</td>\n",
       "      <td>4975.0</td>\n",
       "      <td>36 months</td>\n",
       "      <td>10.65</td>\n",
       "      <td>162.87</td>\n",
       "      <td>B</td>\n",
       "      <td>...</td>\n",
       "      <td>NaN</td>\n",
       "      <td>NaN</td>\n",
       "      <td>NaN</td>\n",
       "      <td>NaN</td>\n",
       "      <td>NaN</td>\n",
       "      <td>NaN</td>\n",
       "      <td>NaN</td>\n",
       "      <td>NaN</td>\n",
       "      <td>NaN</td>\n",
       "      <td>NaN</td>\n",
       "    </tr>\n",
       "    <tr>\n",
       "      <th>1</th>\n",
       "      <td>1.0</td>\n",
       "      <td>1077430</td>\n",
       "      <td>1314167</td>\n",
       "      <td>2500</td>\n",
       "      <td>2500</td>\n",
       "      <td>2500.0</td>\n",
       "      <td>60 months</td>\n",
       "      <td>15.27</td>\n",
       "      <td>59.83</td>\n",
       "      <td>C</td>\n",
       "      <td>...</td>\n",
       "      <td>NaN</td>\n",
       "      <td>NaN</td>\n",
       "      <td>NaN</td>\n",
       "      <td>NaN</td>\n",
       "      <td>NaN</td>\n",
       "      <td>NaN</td>\n",
       "      <td>NaN</td>\n",
       "      <td>NaN</td>\n",
       "      <td>NaN</td>\n",
       "      <td>NaN</td>\n",
       "    </tr>\n",
       "    <tr>\n",
       "      <th>2</th>\n",
       "      <td>2.0</td>\n",
       "      <td>1077175</td>\n",
       "      <td>1313524</td>\n",
       "      <td>2400</td>\n",
       "      <td>2400</td>\n",
       "      <td>2400.0</td>\n",
       "      <td>36 months</td>\n",
       "      <td>15.96</td>\n",
       "      <td>84.33</td>\n",
       "      <td>C</td>\n",
       "      <td>...</td>\n",
       "      <td>NaN</td>\n",
       "      <td>NaN</td>\n",
       "      <td>NaN</td>\n",
       "      <td>NaN</td>\n",
       "      <td>NaN</td>\n",
       "      <td>NaN</td>\n",
       "      <td>NaN</td>\n",
       "      <td>NaN</td>\n",
       "      <td>NaN</td>\n",
       "      <td>NaN</td>\n",
       "    </tr>\n",
       "    <tr>\n",
       "      <th>3</th>\n",
       "      <td>3.0</td>\n",
       "      <td>1076863</td>\n",
       "      <td>1277178</td>\n",
       "      <td>10000</td>\n",
       "      <td>10000</td>\n",
       "      <td>10000.0</td>\n",
       "      <td>36 months</td>\n",
       "      <td>13.49</td>\n",
       "      <td>339.31</td>\n",
       "      <td>C</td>\n",
       "      <td>...</td>\n",
       "      <td>NaN</td>\n",
       "      <td>NaN</td>\n",
       "      <td>NaN</td>\n",
       "      <td>NaN</td>\n",
       "      <td>NaN</td>\n",
       "      <td>NaN</td>\n",
       "      <td>NaN</td>\n",
       "      <td>NaN</td>\n",
       "      <td>NaN</td>\n",
       "      <td>NaN</td>\n",
       "    </tr>\n",
       "    <tr>\n",
       "      <th>4</th>\n",
       "      <td>4.0</td>\n",
       "      <td>1075358</td>\n",
       "      <td>1311748</td>\n",
       "      <td>3000</td>\n",
       "      <td>3000</td>\n",
       "      <td>3000.0</td>\n",
       "      <td>60 months</td>\n",
       "      <td>12.69</td>\n",
       "      <td>67.79</td>\n",
       "      <td>B</td>\n",
       "      <td>...</td>\n",
       "      <td>NaN</td>\n",
       "      <td>NaN</td>\n",
       "      <td>NaN</td>\n",
       "      <td>NaN</td>\n",
       "      <td>NaN</td>\n",
       "      <td>NaN</td>\n",
       "      <td>NaN</td>\n",
       "      <td>NaN</td>\n",
       "      <td>NaN</td>\n",
       "      <td>NaN</td>\n",
       "    </tr>\n",
       "  </tbody>\n",
       "</table>\n",
       "<p>5 rows × 75 columns</p>\n",
       "</div>"
      ],
      "text/plain": [
       "   Unnamed: 0       id  member_id  loan_amnt  funded_amnt  funded_amnt_inv  \\\n",
       "0         NaN  1077501    1296599       5000         5000           4975.0   \n",
       "1         1.0  1077430    1314167       2500         2500           2500.0   \n",
       "2         2.0  1077175    1313524       2400         2400           2400.0   \n",
       "3         3.0  1076863    1277178      10000        10000          10000.0   \n",
       "4         4.0  1075358    1311748       3000         3000           3000.0   \n",
       "\n",
       "         term  int_rate  installment grade  ... total_bal_il il_util  \\\n",
       "0   36 months     10.65       162.87     B  ...          NaN     NaN   \n",
       "1   60 months     15.27        59.83     C  ...          NaN     NaN   \n",
       "2   36 months     15.96        84.33     C  ...          NaN     NaN   \n",
       "3   36 months     13.49       339.31     C  ...          NaN     NaN   \n",
       "4   60 months     12.69        67.79     B  ...          NaN     NaN   \n",
       "\n",
       "  open_rv_12m open_rv_24m  max_bal_bc all_util total_rev_hi_lim inq_fi  \\\n",
       "0         NaN         NaN         NaN      NaN              NaN    NaN   \n",
       "1         NaN         NaN         NaN      NaN              NaN    NaN   \n",
       "2         NaN         NaN         NaN      NaN              NaN    NaN   \n",
       "3         NaN         NaN         NaN      NaN              NaN    NaN   \n",
       "4         NaN         NaN         NaN      NaN              NaN    NaN   \n",
       "\n",
       "  total_cu_tl inq_last_12m  \n",
       "0         NaN          NaN  \n",
       "1         NaN          NaN  \n",
       "2         NaN          NaN  \n",
       "3         NaN          NaN  \n",
       "4         NaN          NaN  \n",
       "\n",
       "[5 rows x 75 columns]"
      ]
     },
     "execution_count": 5,
     "metadata": {},
     "output_type": "execute_result"
    }
   ],
   "source": [
    "dataset.head()"
   ]
  },
  {
   "cell_type": "code",
   "execution_count": 6,
   "id": "c764e379-c064-451b-8b2e-42f535cee6bd",
   "metadata": {},
   "outputs": [
    {
     "data": {
      "text/plain": [
       "(466285, 75)"
      ]
     },
     "execution_count": 6,
     "metadata": {},
     "output_type": "execute_result"
    }
   ],
   "source": [
    "dataset.shape"
   ]
  },
  {
   "cell_type": "markdown",
   "id": "b3069626-33c9-4ffa-8e5b-142aca974b94",
   "metadata": {},
   "source": [
    "## Data Understanding"
   ]
  },
  {
   "cell_type": "code",
   "execution_count": 7,
   "id": "2663b285-a774-4a9a-be2b-77f7d4b9d723",
   "metadata": {},
   "outputs": [
    {
     "data": {
      "text/html": [
       "<div>\n",
       "<style scoped>\n",
       "    .dataframe tbody tr th:only-of-type {\n",
       "        vertical-align: middle;\n",
       "    }\n",
       "\n",
       "    .dataframe tbody tr th {\n",
       "        vertical-align: top;\n",
       "    }\n",
       "\n",
       "    .dataframe thead th {\n",
       "        text-align: right;\n",
       "    }\n",
       "</style>\n",
       "<table border=\"1\" class=\"dataframe\">\n",
       "  <thead>\n",
       "    <tr style=\"text-align: right;\">\n",
       "      <th></th>\n",
       "      <th>Unnamed: 0</th>\n",
       "      <th>id</th>\n",
       "      <th>member_id</th>\n",
       "      <th>loan_amnt</th>\n",
       "      <th>funded_amnt</th>\n",
       "      <th>funded_amnt_inv</th>\n",
       "      <th>term</th>\n",
       "      <th>int_rate</th>\n",
       "      <th>installment</th>\n",
       "      <th>grade</th>\n",
       "      <th>...</th>\n",
       "      <th>total_bal_il</th>\n",
       "      <th>il_util</th>\n",
       "      <th>open_rv_12m</th>\n",
       "      <th>open_rv_24m</th>\n",
       "      <th>max_bal_bc</th>\n",
       "      <th>all_util</th>\n",
       "      <th>total_rev_hi_lim</th>\n",
       "      <th>inq_fi</th>\n",
       "      <th>total_cu_tl</th>\n",
       "      <th>inq_last_12m</th>\n",
       "    </tr>\n",
       "  </thead>\n",
       "  <tbody>\n",
       "    <tr>\n",
       "      <th>0</th>\n",
       "      <td>NaN</td>\n",
       "      <td>1077501</td>\n",
       "      <td>1296599</td>\n",
       "      <td>5000</td>\n",
       "      <td>5000</td>\n",
       "      <td>4975.0</td>\n",
       "      <td>36 months</td>\n",
       "      <td>10.65</td>\n",
       "      <td>162.87</td>\n",
       "      <td>B</td>\n",
       "      <td>...</td>\n",
       "      <td>NaN</td>\n",
       "      <td>NaN</td>\n",
       "      <td>NaN</td>\n",
       "      <td>NaN</td>\n",
       "      <td>NaN</td>\n",
       "      <td>NaN</td>\n",
       "      <td>NaN</td>\n",
       "      <td>NaN</td>\n",
       "      <td>NaN</td>\n",
       "      <td>NaN</td>\n",
       "    </tr>\n",
       "    <tr>\n",
       "      <th>1</th>\n",
       "      <td>1.0</td>\n",
       "      <td>1077430</td>\n",
       "      <td>1314167</td>\n",
       "      <td>2500</td>\n",
       "      <td>2500</td>\n",
       "      <td>2500.0</td>\n",
       "      <td>60 months</td>\n",
       "      <td>15.27</td>\n",
       "      <td>59.83</td>\n",
       "      <td>C</td>\n",
       "      <td>...</td>\n",
       "      <td>NaN</td>\n",
       "      <td>NaN</td>\n",
       "      <td>NaN</td>\n",
       "      <td>NaN</td>\n",
       "      <td>NaN</td>\n",
       "      <td>NaN</td>\n",
       "      <td>NaN</td>\n",
       "      <td>NaN</td>\n",
       "      <td>NaN</td>\n",
       "      <td>NaN</td>\n",
       "    </tr>\n",
       "  </tbody>\n",
       "</table>\n",
       "<p>2 rows × 75 columns</p>\n",
       "</div>"
      ],
      "text/plain": [
       "   Unnamed: 0       id  member_id  loan_amnt  funded_amnt  funded_amnt_inv  \\\n",
       "0         NaN  1077501    1296599       5000         5000           4975.0   \n",
       "1         1.0  1077430    1314167       2500         2500           2500.0   \n",
       "\n",
       "         term  int_rate  installment grade  ... total_bal_il il_util  \\\n",
       "0   36 months     10.65       162.87     B  ...          NaN     NaN   \n",
       "1   60 months     15.27        59.83     C  ...          NaN     NaN   \n",
       "\n",
       "  open_rv_12m open_rv_24m  max_bal_bc all_util total_rev_hi_lim inq_fi  \\\n",
       "0         NaN         NaN         NaN      NaN              NaN    NaN   \n",
       "1         NaN         NaN         NaN      NaN              NaN    NaN   \n",
       "\n",
       "  total_cu_tl inq_last_12m  \n",
       "0         NaN          NaN  \n",
       "1         NaN          NaN  \n",
       "\n",
       "[2 rows x 75 columns]"
      ]
     },
     "execution_count": 7,
     "metadata": {},
     "output_type": "execute_result"
    }
   ],
   "source": [
    "dataset.head(2)"
   ]
  },
  {
   "cell_type": "code",
   "execution_count": 8,
   "id": "985c6540-1ee2-4cfd-86c1-103a1ded5cbb",
   "metadata": {},
   "outputs": [
    {
     "data": {
      "text/plain": [
       "Unnamed: 0               1\n",
       "id                       0\n",
       "member_id                0\n",
       "loan_amnt                0\n",
       "funded_amnt              0\n",
       "                     ...  \n",
       "all_util            466285\n",
       "total_rev_hi_lim     70431\n",
       "inq_fi              466285\n",
       "total_cu_tl         466285\n",
       "inq_last_12m        466285\n",
       "Length: 75, dtype: int64"
      ]
     },
     "execution_count": 8,
     "metadata": {},
     "output_type": "execute_result"
    }
   ],
   "source": [
    "dataset.isnull().sum()"
   ]
  },
  {
   "cell_type": "code",
   "execution_count": 9,
   "id": "ea83cb29-1361-431c-b5ba-c7fae79ffdee",
   "metadata": {},
   "outputs": [],
   "source": [
    "object_column = [x for x in dataset.select_dtypes('object').columns]"
   ]
  },
  {
   "cell_type": "code",
   "execution_count": 10,
   "id": "680cfb51-0b10-4fd7-896c-f57ff856b0f5",
   "metadata": {},
   "outputs": [
    {
     "name": "stdout",
     "output_type": "stream",
     "text": [
      "ini adalah unik value dari kolom : term\n",
      "[' 36 months' ' 60 months']\n",
      "\n",
      " ====================================== \n",
      "ini adalah unik value dari kolom : grade\n",
      "['B' 'C' 'A' 'E' 'F' 'D' 'G']\n",
      "\n",
      " ====================================== \n",
      "ini adalah unik value dari kolom : sub_grade\n",
      "['B2' 'C4' 'C5' 'C1' 'B5' 'A4' 'E1' 'F2' 'C3' 'B1' 'D1' 'A1' 'B3' 'B4'\n",
      " 'C2' 'D2' 'A3' 'A5' 'D5' 'A2' 'E4' 'D3' 'D4' 'F3' 'E3' 'F4' 'F1' 'E5'\n",
      " 'G4' 'E2' 'G3' 'G2' 'G1' 'F5' 'G5']\n",
      "\n",
      " ====================================== \n",
      "ini adalah unik value dari kolom : emp_title\n",
      "[nan 'Ryder' 'AIR RESOURCES BOARD' ... 'MecÃ¡nica'\n",
      " 'Chief of Interpretation (Park Ranger)' 'Server Engineer Lead']\n",
      "\n",
      " ====================================== \n",
      "ini adalah unik value dari kolom : emp_length\n",
      "['10+ years' '< 1 year' '1 year' '3 years' '8 years' '9 years' '4 years'\n",
      " '5 years' '6 years' '2 years' '7 years' nan]\n",
      "\n",
      " ====================================== \n",
      "ini adalah unik value dari kolom : home_ownership\n",
      "['RENT' 'OWN' 'MORTGAGE' 'OTHER' 'NONE' 'ANY']\n",
      "\n",
      " ====================================== \n",
      "ini adalah unik value dari kolom : verification_status\n",
      "['Verified' 'Source Verified' 'Not Verified']\n",
      "\n",
      " ====================================== \n",
      "ini adalah unik value dari kolom : issue_d\n",
      "['Dec-11' 'Nov-11' 'Oct-11' 'Sep-11' 'Aug-11' 'Jul-11' 'Jun-11' 'May-11'\n",
      " 'Apr-11' 'Mar-11' 'Feb-11' 'Jan-11' 'Dec-10' 'Nov-10' 'Oct-10' 'Sep-10'\n",
      " 'Aug-10' 'Jul-10' 'Jun-10' 'May-10' 'Apr-10' 'Mar-10' 'Feb-10' 'Jan-10'\n",
      " 'Dec-09' 'Nov-09' 'Oct-09' 'Sep-09' 'Aug-09' 'Jul-09' 'Jun-09' 'May-09'\n",
      " 'Apr-09' 'Mar-09' 'Feb-09' 'Jan-09' 'Dec-08' 'Nov-08' 'Oct-08' 'Sep-08'\n",
      " 'Aug-08' 'Jul-08' 'Jun-08' 'May-08' 'Apr-08' 'Mar-08' 'Feb-08' 'Jan-08'\n",
      " 'Dec-07' 'Nov-07' 'Oct-07' 'Sep-07' 'Aug-07' 'Jul-07' 'Jun-07' 'Dec-13'\n",
      " 'Nov-13' 'Oct-13' 'Sep-13' 'Aug-13' 'Jul-13' 'Jun-13' 'May-13' 'Apr-13'\n",
      " 'Mar-13' 'Feb-13' 'Jan-13' 'Dec-12' 'Nov-12' 'Oct-12' 'Sep-12' 'Aug-12'\n",
      " 'Jul-12' 'Jun-12' 'May-12' 'Apr-12' 'Mar-12' 'Feb-12' 'Jan-12' 'Dec-14'\n",
      " 'Nov-14' 'Oct-14' 'Sep-14' 'Aug-14' 'Jul-14' 'Jun-14' 'May-14' 'Apr-14'\n",
      " 'Mar-14' 'Feb-14' 'Jan-14']\n",
      "\n",
      " ====================================== \n",
      "ini adalah unik value dari kolom : loan_status\n",
      "['Fully Paid' 'Charged Off' 'Current' 'Default' 'Late (31-120 days)'\n",
      " 'In Grace Period' 'Late (16-30 days)'\n",
      " 'Does not meet the credit policy. Status:Fully Paid'\n",
      " 'Does not meet the credit policy. Status:Charged Off']\n",
      "\n",
      " ====================================== \n",
      "ini adalah unik value dari kolom : pymnt_plan\n",
      "['n' 'y']\n",
      "\n",
      " ====================================== \n",
      "ini adalah unik value dari kolom : url\n",
      "['https://www.lendingclub.com/browse/loanDetail.action?loan_id=1077501'\n",
      " 'https://www.lendingclub.com/browse/loanDetail.action?loan_id=1077430'\n",
      " 'https://www.lendingclub.com/browse/loanDetail.action?loan_id=1077175'\n",
      " ...\n",
      " 'https://www.lendingclub.com/browse/loanDetail.action?loan_id=9584776'\n",
      " 'https://www.lendingclub.com/browse/loanDetail.action?loan_id=9604874'\n",
      " 'https://www.lendingclub.com/browse/loanDetail.action?loan_id=9199665']\n",
      "\n",
      " ====================================== \n",
      "ini adalah unik value dari kolom : desc\n",
      "['  Borrower added on 12/22/11 > I need to upgrade my business technologies.<br>'\n",
      " '  Borrower added on 12/22/11 > I plan to use this money to finance the motorcycle i am looking at. I plan to have it paid off as soon as possible/when i sell my old bike. I only need this money because the deal im looking at is to good to pass up.<br><br>  Borrower added on 12/22/11 > I plan to use this money to finance the motorcycle i am looking at. I plan to have it paid off as soon as possible/when i sell my old bike.I only need this money because the deal im looking at is to good to pass up. I have finished college with an associates degree in business and its takingmeplaces<br>'\n",
      " nan ...\n",
      " '  Borrower added on 12/09/13 > consolidate all credit accounts<br>'\n",
      " '  Borrower added on 12/06/13 > I am going to consolidate a credit card debt from medical and moving expenses with a loan I already have. I have paid everything on time for years, I just need to eliminate this high interest credit card.<br>'\n",
      " '  Borrower added on 12/04/13 > I will like a loan to fix  our cars and paid our house property tax<br>']\n",
      "\n",
      " ====================================== \n",
      "ini adalah unik value dari kolom : purpose\n",
      "['credit_card' 'car' 'small_business' 'other' 'wedding'\n",
      " 'debt_consolidation' 'home_improvement' 'major_purchase' 'medical'\n",
      " 'moving' 'vacation' 'house' 'renewable_energy' 'educational']\n",
      "\n",
      " ====================================== \n",
      "ini adalah unik value dari kolom : title\n",
      "['Computer' 'bike' 'real estate business' ... 'LoanGetter'\n",
      " 'Consolidation 01' 'Paying off the car and some bills']\n",
      "\n",
      " ====================================== \n",
      "ini adalah unik value dari kolom : zip_code\n",
      "['860xx' '309xx' '606xx' '917xx' '972xx' '852xx' '280xx' '900xx' '958xx'\n",
      " '774xx' '853xx' '913xx' '245xx' '951xx' '641xx' '921xx' '067xx' '890xx'\n",
      " '770xx' '335xx' '799xx' '605xx' '103xx' '150xx' '326xx' '564xx' '141xx'\n",
      " '080xx' '330xx' '974xx' '934xx' '405xx' '946xx' '445xx' '850xx' '604xx'\n",
      " '292xx' '088xx' '180xx' '029xx' '700xx' '010xx' '441xx' '104xx' '061xx'\n",
      " '616xx' '947xx' '914xx' '765xx' '980xx' '017xx' '752xx' '787xx' '077xx'\n",
      " '540xx' '225xx' '440xx' '437xx' '559xx' '912xx' '325xx' '300xx' '923xx'\n",
      " '352xx' '013xx' '146xx' '074xx' '786xx' '937xx' '331xx' '115xx' '191xx'\n",
      " '114xx' '908xx' '902xx' '992xx' '750xx' '950xx' '329xx' '226xx' '614xx'\n",
      " '802xx' '672xx' '083xx' '100xx' '926xx' '931xx' '712xx' '060xx' '707xx'\n",
      " '342xx' '895xx' '430xx' '919xx' '996xx' '891xx' '935xx' '801xx' '928xx'\n",
      " '233xx' '927xx' '970xx' '211xx' '303xx' '070xx' '194xx' '263xx' '403xx'\n",
      " '301xx' '553xx' '993xx' '312xx' '432xx' '602xx' '216xx' '151xx' '971xx'\n",
      " '305xx' '334xx' '050xx' '129xx' '925xx' '483xx' '760xx' '961xx' '200xx'\n",
      " '085xx' '981xx' '601xx' '117xx' '063xx' '920xx' '543xx' '775xx' '570xx'\n",
      " '038xx' '221xx' '985xx' '113xx' '275xx' '236xx' '148xx' '028xx' '450xx'\n",
      " '532xx' '729xx' '321xx' '959xx' '941xx' '955xx' '217xx' '880xx' '660xx'\n",
      " '062xx' '193xx' '761xx' '857xx' '306xx' '271xx' '142xx' '956xx' '983xx'\n",
      " '945xx' '109xx' '112xx' '187xx' '630xx' '435xx' '488xx' '287xx' '705xx'\n",
      " '592xx' '318xx' '549xx' '212xx' '347xx' '274xx' '265xx' '785xx' '027xx'\n",
      " '089xx' '813xx' '069xx' '260xx' '201xx' '349xx' '322xx' '075xx' '124xx'\n",
      " '940xx' '967xx' '111xx' '773xx' '997xx' '076xx' '538xx' '021xx' '304xx'\n",
      " '234xx' '308xx' '809xx' '071xx' '363xx' '296xx' '240xx' '830xx' '011xx'\n",
      " '622xx' '207xx' '140xx' '336xx' '619xx' '208xx' '618xx' '014xx' '644xx'\n",
      " '283xx' '276xx' '631xx' '243xx' '960xx' '181xx' '922xx' '224xx' '975xx'\n",
      " '105xx' '986xx' '218xx' '652xx' '782xx' '410xx' '480xx' '328xx' '719xx'\n",
      " '982xx' '065xx' '081xx' '954xx' '346xx' '442xx' '025xx' '122xx' '173xx'\n",
      " '282xx' '120xx' '082xx' '766xx' '229xx' '840xx' '744xx' '933xx' '451xx'\n",
      " '907xx' '728xx' '159xx' '333xx' '293xx' '701xx' '984xx' '811xx' '597xx'\n",
      " '957xx' '165xx' '720xx' '119xx' '359xx' '195xx' '084xx' '969xx' '924xx'\n",
      " '531xx' '716xx' '337xx' '841xx' '323xx' '740xx' '179xx' '805xx' '285xx'\n",
      " '551xx' '658xx' '944xx' '232xx' '905xx' '600xx' '327xx' '711xx' '906xx'\n",
      " '444xx' '856xx' '064xx' '777xx' '072xx' '554xx' '145xx' '537xx' '152xx'\n",
      " '847xx' '295xx' '829xx' '320xx' '131xx' '939xx' '572xx' '281xx' '550xx'\n",
      " '078xx' '452xx' '778xx' '313xx' '851xx' '784xx' '804xx' '571xx' '210xx'\n",
      " '988xx' '400xx' '995xx' '023xx' '158xx' '657xx' '016xx' '019xx' '290xx'\n",
      " '190xx' '366xx' '066xx' '991xx' '968xx' '721xx' '439xx' '640xx' '546xx'\n",
      " '024xx' '751xx' '431xx' '741xx' '904xx' '156xx' '316xx' '299xx' '087xx'\n",
      " '739xx' '949xx' '261xx' '073xx' '222xx' '244xx' '617xx' '018xx' '286xx'\n",
      " '759xx' '952xx' '930xx' '911xx' '220xx' '731xx' '730xx' '262xx' '338xx'\n",
      " '160xx' '031xx' '054xx' '223xx' '272xx' '882xx' '557xx' '797xx' '725xx'\n",
      " '130xx' '030xx' '206xx' '324xx' '170xx' '291xx' '161xx' '647xx' '916xx'\n",
      " '665xx' '209xx' '915xx' '110xx' '086xx' '484xx' '844xx' '020xx' '354xx'\n",
      " '448xx' '978xx' '757xx' '953xx' '577xx' '315xx' '664xx' '186xx' '182xx'\n",
      " '574xx' '800xx' '197xx' '137xx' '314xx' '755xx' '973xx' '603xx' '481xx'\n",
      " '780xx' '894xx' '341xx' '361xx' '178xx' '068xx' '565xx' '611xx' '288xx'\n",
      " '443xx' '662xx' '874xx' '560xx' '535xx' '499xx' '162xx' '756xx' '168xx'\n",
      " '827xx' '541xx' '615xx' '989xx' '037xx' '863xx' '339xx' '367xx' '273xx'\n",
      " '052xx' '623xx' '416xx' '648xx' '918xx' '436xx' '898xx' '674xx' '496xx'\n",
      " '294xx' '762xx' '128xx' '903xx' '932xx' '650xx' '246xx' '633xx' '666xx'\n",
      " '228xx' '015xx' '302xx' '573xx' '118xx' '998xx' '767xx' '490xx' '350xx'\n",
      " '591xx' '254xx' '566xx' '596xx' '637xx' '032xx' '763xx' '871xx' '494xx'\n",
      " '402xx' '545xx' '184xx' '458xx' '239xx' '977xx' '297xx' '284xx' '144xx'\n",
      " '748xx' '310xx' '147xx' '153xx' '544xx' '948xx' '576xx' '976xx' '107xx'\n",
      " '846xx' '344xx' '351xx' '754xx' '910xx' '656xx' '357xx' '791xx' '493xx'\n",
      " '855xx' '278xx' '125xx' '175xx' '530xx' '171xx' '703xx' '620xx' '438xx'\n",
      " '626xx' '307xx' '636xx' '319xx' '116xx' '645xx' '708xx' '816xx' '625xx'\n",
      " '133xx' '612xx' '238xx' '166xx' '231xx' '241xx' '826xx' '783xx' '793xx'\n",
      " '646xx' '188xx' '108xx' '653xx' '057xx' '796xx' '990xx' '219xx' '724xx'\n",
      " '456xx' '214xx' '237xx' '737xx' '121xx' '199xx' '548xx' '453xx' '704xx'\n",
      " '368xx' '828xx' '598xx' '136xx' '610xx' '433xx' '722xx' '743xx' '810xx'\n",
      " '706xx' '235xx' '139xx' '613xx' '454xx' '317xx' '746xx' '446xx' '486xx'\n",
      " '033xx' '279xx' '407xx' '803xx' '794xx' '457xx' '189xx' '196xx' '539xx'\n",
      " '424xx' '492xx' '482xx' '667xx' '845xx' '608xx' '401xx' '362xx' '627xx'\n",
      " '717xx' '356xx' '607xx' '963xx' '198xx' '936xx' '713xx' '227xx' '883xx'\n",
      " '563xx' '893xx' '079xx' '806xx' '360xx' '172xx' '422xx' '768xx' '034xx'\n",
      " '735xx' '870xx' '012xx' '594xx' '215xx' '628xx' '749xx' '101xx' '814xx'\n",
      " '255xx' '745xx' '495xx' '132xx' '183xx' '864xx' '106xx' '663xx' '943xx'\n",
      " '094xx' '177xx' '365xx' '897xx' '776xx' '843xx' '421xx' '253xx' '795xx'\n",
      " '727xx' '528xx' '270xx' '808xx' '277xx' '447xx' '358xx' '815xx' '250xx'\n",
      " '230xx' '790xx' '884xx' '242xx' '534xx' '404xx' '397xx' '434xx' '671xx'\n",
      " '655xx' '675xx' '053xx' '859xx' '126xx' '102xx' '256xx' '673xx' '489xx'\n",
      " '258xx' '423xx' '497xx' '788xx' '127xx' '176xx' '380xx' '058xx' '635xx'\n",
      " '498xx' '820xx' '599xx' '822xx' '638xx' '723xx' '449xx' '420xx' '157xx'\n",
      " '726xx' '185xx' '527xx' '298xx' '769xx' '257xx' '881xx' '575xx' '624xx'\n",
      " '134xx' '877xx' '781xx' '718xx' '670xx' '138xx' '026xx' '678xx' '398xx'\n",
      " '411xx' '149xx' '247xx' '875xx' '838xx' '651xx' '364xx' '203xx' '427xx'\n",
      " '629xx' '355xx' '174xx' '547xx' '567xx' '558xx' '135xx' '035xx' '999xx'\n",
      " '634xx' '455xx' '143xx' '154xx' '562xx' '779xx' '561xx' '734xx' '789xx'\n",
      " '812xx' '268xx' '051xx' '865xx' '406xx' '661xx' '758xx' '676xx' '491xx'\n",
      " '267xx' '609xx' '595xx' '259xx' '163xx' '264xx' '409xx' '376xx' '471xx'\n",
      " '375xx' '747xx' '123xx' '714xx' '590xx' '639xx' '412xx' '425xx' '022xx'\n",
      " '369xx' '164xx' '825xx' '266xx' '096xx' '487xx' '251xx' '593xx' '169xx'\n",
      " '413xx' '155xx' '764xx' '710xx' '408xx' '668xx' '056xx' '669xx' '167xx'\n",
      " '542xx' '679xx' '462xx' '792xx' '824xx' '249xx' '798xx' '370xx' '485xx'\n",
      " '654xx' '289xx' '807xx' '252xx' '556xx' '353xx' '677xx' '090xx' '371xx'\n",
      " '831xx' '736xx' '007xx' '332xx' '468xx' '461xx' '093xx' '248xx' '463xx'\n",
      " '391xx' '381xx' '415xx' '378xx' '414xx' '396xx' '836xx' '044xx' '392xx'\n",
      " '772xx' '374xx' '823xx' '395xx' '394xx' '965xx' '390xx' '388xx' '386xx'\n",
      " '040xx' '385xx' '379xx' '681xx' '837xx' '373xx' '753xx' '834xx' '383xx'\n",
      " '384xx' '372xx' '833xx' '522xx' '523xx' '474xx' '465xx' '689xx' '473xx'\n",
      " '041xx' '685xx' '479xx' '469xx' '738xx' '418xx' '204xx' '059xx' '878xx'\n",
      " '460xx' '426xx' '514xx' '500xx' '503xx' '832xx' '691xx' '470xx' '036xx'\n",
      " '467xx' '476xx' '478xx' '466xx' '377xx' '475xx' '477xx' '472xx' '994xx'\n",
      " '873xx' '464xx' '979xx' '569xx' '382xx' '680xx' '879xx' '049xx' '962xx'\n",
      " '502xx' '942xx' '621xx' '417xx' '091xx' '643xx' '821xx' '340xx' '513xx'\n",
      " '387xx' '393xx' '389xx' '429xx' '311xx' '682xx' '854xx' '582xx' '929xx'\n",
      " '938xx' '008xx' '861xx' '888xx' '098xx' '524xx' '889xx' '092xx' '510xx'\n",
      " '909xx' '516xx' '043xx' '587xx' '511xx' '901xx']\n",
      "\n",
      " ====================================== \n",
      "ini adalah unik value dari kolom : addr_state\n",
      "['AZ' 'GA' 'IL' 'CA' 'OR' 'NC' 'TX' 'VA' 'MO' 'CT' 'UT' 'FL' 'NY' 'PA'\n",
      " 'MN' 'NJ' 'KY' 'OH' 'SC' 'RI' 'LA' 'MA' 'WA' 'WI' 'AL' 'CO' 'KS' 'NV'\n",
      " 'AK' 'MD' 'WV' 'VT' 'MI' 'DC' 'SD' 'NH' 'AR' 'NM' 'MT' 'HI' 'WY' 'OK'\n",
      " 'DE' 'MS' 'TN' 'IA' 'NE' 'ID' 'IN' 'ME']\n",
      "\n",
      " ====================================== \n",
      "ini adalah unik value dari kolom : earliest_cr_line\n",
      "['Jan-85' 'Apr-99' 'Nov-01' 'Feb-96' 'Jan-96' 'Nov-04' 'Jul-05' 'Jan-07'\n",
      " 'Apr-04' 'Sep-04' 'Jan-98' 'Oct-89' 'Jul-03' 'May-91' 'Sep-07' 'Oct-98'\n",
      " 'Aug-93' 'Oct-03' 'Jan-01' 'Nov-97' 'Feb-83' 'Jul-85' 'Apr-03' 'Jun-01'\n",
      " 'Feb-02' 'Aug-84' 'Nov-06' 'Dec-87' 'Nov-81' 'Feb-97' 'Apr-05' 'Oct-07'\n",
      " 'Dec-00' 'Apr-07' 'Dec-01' 'Jan-03' 'Mar-94' 'Sep-98' 'Jun-04' 'Nov-95'\n",
      " 'Jul-99' 'Jun-95' 'Sep-92' 'Jan-02' 'Apr-92' 'Oct-06' 'May-00' 'Dec-98'\n",
      " 'Dec-04' 'Oct-00' 'May-02' 'May-06' 'Jul-02' 'Jul-06' 'May-97' 'Oct-05'\n",
      " 'Apr-95' 'Oct-02' 'Jan-00' 'Apr-00' 'Dec-94' 'Sep-05' 'Dec-84' 'Dec-99'\n",
      " 'Nov-03' 'Jun-89' 'Jun-03' 'Oct-96' 'May-03' 'Jun-02' 'Jun-07' 'Dec-96'\n",
      " 'Feb-84' 'Sep-02' 'Jan-86' 'May-98' 'Jan-97' 'Jun-05' 'Feb-90' 'Mar-04'\n",
      " 'Jul-95' 'Aug-94' 'Jun-92' 'Mar-97' 'Apr-06' 'Apr-90' 'Aug-99' 'Sep-00'\n",
      " 'Feb-01' 'Dec-88' 'Feb-99' 'Dec-91' 'Aug-00' 'Oct-04' 'Aug-04' 'Feb-05'\n",
      " 'Nov-05' 'Nov-00' 'May-07' 'Jan-91' 'Jun-00' 'Aug-06' 'Dec-02' 'Jun-93'\n",
      " 'Jun-06' 'Feb-04' 'Dec-90' 'Mar-00' 'Feb-95' 'Jul-01' 'Apr-02' 'Sep-06'\n",
      " 'May-99' 'Aug-98' 'Dec-05' 'May-04' 'Oct-01' 'Jun-83' 'Mar-86' 'Apr-80'\n",
      " 'Jul-04' 'Jul-08' 'May-96' 'Jan-04' 'Nov-02' 'Aug-02' 'Aug-01' 'Mar-91'\n",
      " 'Sep-89' 'Sep-94' 'Sep-03' 'Sep-99' 'Aug-05' 'Dec-86' 'Nov-98' 'Feb-06'\n",
      " 'May-94' 'Nov-07' 'Feb-93' 'Nov-91' 'May-05' 'Dec-73' 'May-01' 'Mar-90'\n",
      " 'Mar-96' 'Oct-79' 'Jun-81' 'Mar-01' 'Apr-01' 'Jun-99' 'Nov-93' 'Jan-06'\n",
      " 'Dec-97' 'Nov-94' 'Jul-97' 'Oct-91' 'Jun-94' 'Mar-06' 'Sep-96' 'Apr-91'\n",
      " 'Jul-93' 'Jan-95' 'Sep-87' 'Mar-03' 'Oct-99' 'Jul-96' 'Dec-03' 'Aug-88'\n",
      " 'Jan-92' 'Mar-98' 'Feb-07' 'Aug-82' 'Mar-95' 'Dec-92' 'Jul-98' 'Jul-89'\n",
      " 'May-90' 'Jul-94' 'Sep-01' 'Mar-84' 'Aug-03' 'Nov-99' 'Mar-07' 'Mar-08'\n",
      " 'Apr-94' 'Jan-05' 'Jul-86' 'Aug-90' 'May-92' 'Jul-00' 'Mar-88' 'May-83'\n",
      " 'Apr-93' 'Jul-78' 'Feb-00' 'Dec-81' 'Mar-92' 'Jan-81' 'Sep-90' 'Jun-98'\n",
      " 'May-93' 'Nov-96' 'Mar-02' 'Jan-88' 'Aug-97' 'Aug-87' 'Aug-08' 'Oct-94'\n",
      " 'Oct-86' 'Feb-94' 'Jun-96' 'Feb-98' 'Nov-08' 'Apr-98' 'Jul-79' 'Jan-93'\n",
      " 'May-87' 'Jul-71' 'Aug-07' 'Jun-97' 'Mar-80' 'Dec-06' 'Jul-07' 'Oct-95'\n",
      " 'Jul-91' 'Jul-92' 'Dec-72' 'Dec-93' 'Jan-99' 'Feb-03' 'Apr-97' 'Dec-95'\n",
      " 'Apr-96' 'Jul-90' 'Mar-70' 'Nov-84' 'Apr-84' 'Jul-84' 'Aug-95' 'Mar-99'\n",
      " 'Sep-88' 'Mar-89' 'Mar-87' 'Oct-97' 'Dec-80' 'Jan-94' 'Sep-95' 'Mar-05'\n",
      " 'Jan-89' 'Feb-92' 'Jan-90' 'Nov-90' 'Mar-69' 'Jun-75' 'Mar-85' 'Dec-07'\n",
      " 'Oct-93' 'Dec-89' 'Sep-80' 'Jun-88' 'May-78' 'Apr-73' 'Aug-89' 'Oct-90'\n",
      " 'Sep-91' 'Feb-82' 'Feb-87' 'Nov-85' 'Jan-84' 'Jul-88' 'May-08' 'Oct-85'\n",
      " 'Mar-83' 'Aug-91' 'Sep-86' 'Jun-90' 'Feb-86' 'Sep-97' 'Jun-84' 'Sep-81'\n",
      " 'Apr-86' 'Aug-79' 'Aug-80' 'Nov-92' 'Sep-93' 'Jun-87' 'Sep-82' 'Aug-92'\n",
      " 'Aug-85' 'Jul-83' 'Jun-91' 'Dec-83' 'Jan-87' 'Nov-78' 'Oct-84' 'Aug-96'\n",
      " 'Nov-89' 'Sep-76' 'Nov-86' 'Oct-87' 'Sep-08' 'May-77' 'May-86' 'Mar-81'\n",
      " 'Jan-83' 'Nov-76' 'Sep-79' 'Oct-83' 'Sep-62' 'Jun-85' 'May-82' 'Feb-88'\n",
      " 'Oct-92' 'Aug-83' 'Jun-73' 'Apr-85' 'Oct-88' 'Oct-81' 'Sep-68' 'Jul-74'\n",
      " 'Nov-87' 'May-95' 'Feb-91' 'Nov-88' 'Mar-93' 'Jun-08' 'Jul-80' 'Dec-82'\n",
      " 'Mar-75' 'Feb-80' 'Apr-88' 'Dec-79' 'Sep-85' 'Sep-71' 'Mar-78' 'Feb-08'\n",
      " 'Aug-78' 'Nov-70' 'Jun-79' 'Jun-80' 'Apr-89' 'Sep-83' 'Feb-89' 'Nov-83'\n",
      " 'Jun-86' 'Oct-82' 'Aug-86' 'Oct-80' 'May-88' 'Dec-85' 'Jan-82' 'Sep-77'\n",
      " 'Dec-76' 'Apr-82' 'May-84' 'Apr-08' 'Feb-79' 'Jan-08' 'Sep-64' 'Jul-87'\n",
      " 'Jan-78' 'May-89' 'Oct-77' 'Dec-75' 'Feb-85' 'Oct-08' 'Nov-82' 'May-75'\n",
      " 'May-85' 'Feb-71' 'Jun-77' 'Apr-81' 'May-79' 'Jan-72' 'Sep-67' 'Apr-78'\n",
      " 'Feb-65' 'Apr-83' 'Nov-75' 'Jun-67' 'Mar-74' 'Jul-72' 'Aug-67' 'Apr-71'\n",
      " 'Sep-84' 'May-81' 'Dec-70' 'Oct-73' 'Jan-71' 'Dec-63' 'Apr-74' 'Jan-80'\n",
      " 'Aug-69' 'Apr-75' 'Jul-77' 'Mar-77' 'Nov-69' 'Jan-76' 'Mar-82' 'Apr-87'\n",
      " 'Dec-69' 'May-74' 'Aug-74' 'Jun-72' 'Mar-63' 'Nov-79' 'Aug-75' 'Sep-74'\n",
      " 'Aug-81' 'May-73' 'Sep-73' 'Mar-73' 'Dec-77' 'Oct-76' 'Jan-74' 'Jan-70'\n",
      " 'Aug-68' 'Feb-76' 'Jan-75' 'Oct-72' 'Dec-74' 'Feb-73' 'Nov-65' 'Mar-72'\n",
      " 'Jun-82' 'Jun-74' 'May-65' 'Jun-71' 'Oct-70' 'Apr-76' 'Oct-71' 'Apr-77'\n",
      " 'Sep-78' 'Oct-78' 'Oct-54' 'Feb-81' 'Jan-77' 'Aug-77' 'Dec-78' 'Aug-76'\n",
      " 'Jun-68' 'Jun-78' 'Jun-69' 'May-80' 'Jan-79' 'Oct-65' 'Nov-74' 'Apr-66'\n",
      " 'Jun-76' 'Feb-72' 'May-76' 'Mar-68' 'Mar-76' 'Jul-70' 'Mar-79' 'Jul-76'\n",
      " 'Jul-82' 'Sep-65' 'Apr-67' 'Oct-63' 'Feb-70' 'Jul-73' 'Feb-78' 'Nov-71'\n",
      " 'Aug-72' 'Jul-75' 'Sep-70' 'Jul-81' 'Oct-64' 'Sep-72' 'May-70' 'May-63'\n",
      " 'Feb-69' 'Nov-80' 'Jul-67' 'Apr-70' 'Nov-77' 'Nov-66' 'May-71' 'Apr-79'\n",
      " 'May-72' 'Feb-68' 'Jul-64' 'Nov-67' 'Apr-64' 'Feb-75' 'Jun-59' 'Sep-56'\n",
      " 'Jun-66' 'Jan-46' 'Mar-66' 'Jan-63' 'Dec-50' 'Jul-69' 'Jan-68' 'Nov-73'\n",
      " 'Jun-70' 'Feb-77' 'Feb-74' 'Jan-73' 'Feb-66' 'Dec-61' 'Aug-73' 'Aug-70'\n",
      " 'Sep-69' 'Sep-75' 'Dec-68' 'Nov-54' 'Oct-69' 'Dec-65' 'Apr-72' 'Nov-72'\n",
      " 'Sep-63' 'Apr-69' 'Nov-62' 'Oct-67' 'May-67' 'Nov-61' 'Feb-67' 'Nov-68'\n",
      " 'Oct-75' 'Mar-71' 'Aug-71' 'Dec-66' 'Oct-68' 'Oct-74' 'Nov-63' 'Apr-68'\n",
      " 'May-69' 'Nov-59' nan 'Oct-10' 'Dec-09' 'Nov-10' 'Jan-10' 'Dec-08'\n",
      " 'Sep-09' 'Jul-10' 'Jan-09' 'May-09' 'May-10' 'Sep-10' 'Apr-09' 'Nov-09'\n",
      " 'Apr-10' 'Mar-09' 'Feb-09' 'Aug-09' 'Oct-09' 'Jun-09' 'Jun-10' 'Jul-09'\n",
      " 'Feb-10' 'Mar-10' 'Aug-10' 'Jan-61' 'Oct-62' 'Jun-64' 'Apr-62' 'Jan-60'\n",
      " 'Sep-66' 'Mar-65' 'May-68' 'Jul-66' 'Dec-56' 'Dec-71' 'Apr-65' 'Jan-64'\n",
      " 'Jul-65' 'Jan-65' 'Jan-62' 'Aug-64' 'Jan-69' 'Oct-66' 'Jun-62' 'Dec-67'\n",
      " 'Oct-60' 'Jul-62' 'Dec-60' 'Jul-60' 'Jun-65' 'May-66' 'Oct-57' 'Aug-65'\n",
      " 'May-60' 'Jan-67' 'Nov-53' 'Oct-59' 'Jun-63' 'Mar-67' 'Jul-63' 'Nov-60'\n",
      " 'Mar-62' 'Mar-64' 'Jul-68' 'Feb-63' 'Jan-66' 'Dec-64' 'May-64' 'Oct-61'\n",
      " 'Aug-60' 'Mar-60' 'Apr-55' 'Sep-59' 'Aug-66' 'Jul-55' 'Aug-61' 'Nov-64'\n",
      " 'May-53' 'Nov-50' 'Nov-55' 'Mar-61' 'Feb-57' 'Aug-63' 'Feb-60' 'Sep-60'\n",
      " 'Feb-64' 'Dec-51' 'Nov-58' 'Aug-62' 'Oct-58' 'May-62' 'Mar-11' 'Jun-11'\n",
      " 'Dec-10' 'Oct-11' 'Sep-11' 'Jul-11' 'Apr-11' 'May-11' 'Jan-11' 'Feb-11'\n",
      " 'Aug-11' 'Apr-63' 'Nov-11' 'Dec-58' 'Jan-58' 'Jul-59' 'Jan-55' 'May-59'\n",
      " 'Aug-46' 'Apr-61' 'Jun-58' 'Jul-58' 'Jun-60' 'Jan-51' 'Dec-62' 'Mar-59'\n",
      " 'Aug-58' 'Jan-59' 'Feb-61' 'Sep-57' 'Jun-49' 'Jun-61' 'Jan-56' 'Jan-54'\n",
      " 'Jan-57' 'Jan-44' 'Oct-50' 'Jan-48' 'Jul-61' 'May-58' 'Jan-53' 'May-50'\n",
      " 'Nov-56']\n",
      "\n",
      " ====================================== \n",
      "ini adalah unik value dari kolom : initial_list_status\n",
      "['f' 'w']\n",
      "\n",
      " ====================================== \n",
      "ini adalah unik value dari kolom : last_pymnt_d\n",
      "['Jan-15' 'Apr-13' 'Jun-14' 'Jan-16' 'Apr-12' 'Nov-12' 'Jun-13' 'Sep-13'\n",
      " 'Jul-12' 'Oct-13' 'May-13' 'Feb-15' 'Aug-15' 'Oct-12' 'Sep-12' nan\n",
      " 'Dec-12' 'Dec-14' 'Aug-13' 'Nov-13' 'Jan-14' 'Apr-14' 'Aug-14' 'Oct-14'\n",
      " 'Aug-12' 'Jul-14' 'Jul-13' 'Apr-15' 'Feb-14' 'Sep-14' 'Jun-12' 'Feb-13'\n",
      " 'Mar-13' 'May-14' 'Mar-15' 'Jan-13' 'Dec-13' 'Feb-12' 'Mar-14' 'Sep-15'\n",
      " 'Nov-15' 'Dec-15' 'Jan-12' 'Oct-15' 'Nov-14' 'Mar-12' 'May-12' 'Jun-15'\n",
      " 'May-15' 'Jul-15' 'Dec-11' 'Nov-11' 'Oct-11' 'Sep-11' 'Aug-11' 'Jul-11'\n",
      " 'Jun-11' 'May-11' 'Apr-11' 'Mar-11' 'Feb-11' 'Jan-11' 'Dec-10' 'Nov-10'\n",
      " 'Oct-10' 'Sep-10' 'Aug-10' 'Jul-10' 'Jun-10' 'May-10' 'Apr-10' 'Mar-10'\n",
      " 'Feb-10' 'Jan-10' 'Dec-09' 'Nov-09' 'Oct-09' 'Sep-09' 'Aug-09' 'Jul-09'\n",
      " 'Jun-09' 'May-09' 'Apr-09' 'Mar-09' 'Feb-09' 'Jan-09' 'Dec-08' 'Oct-08'\n",
      " 'Aug-08' 'Jul-08' 'Sep-08' 'Jun-08' 'May-08' 'Nov-08' 'Apr-08' 'Mar-08'\n",
      " 'Feb-08' 'Jan-08' 'Dec-07']\n",
      "\n",
      " ====================================== \n",
      "ini adalah unik value dari kolom : next_pymnt_d\n",
      "[nan 'Feb-16' 'Jan-16' 'Sep-13' 'Feb-14' 'May-14' 'Jun-13' 'Mar-12'\n",
      " 'Apr-12' 'May-13' 'Aug-12' 'Aug-13' 'Jun-12' 'Nov-13' 'Feb-12' 'Oct-11'\n",
      " 'Jan-13' 'Jan-14' 'Jul-13' 'Jul-15' 'Jan-12' 'Dec-12' 'Jun-11' 'Feb-13'\n",
      " 'Nov-11' 'Nov-12' 'Dec-11' 'Aug-11' 'Sep-11' 'Apr-11' 'Mar-14' 'Apr-13'\n",
      " 'Mar-11' 'Jul-12' 'Aug-14' 'Oct-13' 'Sep-12' 'May-12' 'Apr-15' 'Jul-11'\n",
      " 'Dec-15' 'Dec-13' 'Jan-11' 'Oct-12' 'Nov-14' 'Mar-13' 'Aug-15' 'Feb-15'\n",
      " 'May-15' 'Jul-14' 'Nov-15' 'Sep-14' 'Oct-15' 'May-11' 'Feb-11' 'Dec-14'\n",
      " 'Jun-15' 'Apr-14' 'Jan-15' 'Sep-15' 'Jun-14' 'Nov-10' 'Oct-10' 'Dec-10'\n",
      " 'Mar-15' 'Oct-14' 'Jul-10' 'Sep-10' 'May-10' 'Aug-10' 'Mar-10' 'Jun-10'\n",
      " 'Apr-10' 'Feb-10' 'Dec-09' 'Nov-09' 'Oct-09' 'Jan-10' 'Sep-09' 'Jun-09'\n",
      " 'Aug-09' 'Jul-09' 'May-09' 'Apr-09' 'Jan-09' 'Oct-08' 'Feb-09' 'Nov-08'\n",
      " 'Sep-08' 'Mar-09' 'Dec-08' 'Aug-08' 'Jun-08' 'Jul-08' 'Apr-08' 'May-08'\n",
      " 'Feb-08' 'Jan-08' 'Mar-08' 'Dec-07' 'Mar-16']\n",
      "\n",
      " ====================================== \n",
      "ini adalah unik value dari kolom : last_credit_pull_d\n",
      "['Jan-16' 'Sep-13' 'Jan-15' 'Sep-15' 'Dec-14' 'Aug-12' 'Mar-13' 'Dec-15'\n",
      " 'Aug-13' 'Nov-12' 'Mar-14' 'Apr-15' 'May-14' 'Jul-15' 'Jul-12' 'Sep-12'\n",
      " 'May-13' 'Oct-15' 'Jun-12' 'Mar-15' 'Dec-12' 'Jul-14' 'Sep-14' 'Feb-14'\n",
      " 'Jun-15' 'Oct-13' 'Apr-14' 'Oct-14' 'Feb-13' 'Nov-15' 'Oct-12' 'Nov-13'\n",
      " 'Nov-14' 'Feb-12' 'Apr-12' 'Aug-15' 'Jun-14' 'Jan-12' 'Aug-14' 'Jun-13'\n",
      " 'Dec-13' 'May-12' 'Jan-14' 'Jul-13' 'Apr-13' 'May-15' 'Feb-15' 'Mar-12'\n",
      " 'Nov-11' 'Dec-11' 'Jan-13' 'Oct-11' 'Sep-11' 'Aug-11' 'Jul-11' 'Jun-11'\n",
      " 'May-11' 'Apr-11' 'Mar-11' 'Feb-11' 'Jan-11' 'Dec-10' 'Nov-10' 'Oct-10'\n",
      " nan 'Sep-10' 'Aug-10' 'Jul-10' 'Jun-10' 'May-10' 'Apr-10' 'Feb-10'\n",
      " 'Mar-10' 'Aug-07' 'Jan-10' 'Dec-09' 'Nov-09' 'Oct-09' 'Sep-09' 'Jul-09'\n",
      " 'Aug-09' 'Jun-09' 'May-09' 'Apr-09' 'Mar-09' 'Feb-09' 'Jan-09' 'Dec-08'\n",
      " 'Jun-08' 'Sep-08' 'May-08' 'Aug-08' 'Mar-08' 'Oct-08' 'Feb-08' 'Jan-08'\n",
      " 'Dec-07' 'Jul-08' 'Oct-07' 'Sep-07' 'Jun-07' 'May-07' 'Jul-07' 'Nov-07']\n",
      "\n",
      " ====================================== \n",
      "ini adalah unik value dari kolom : application_type\n",
      "['INDIVIDUAL']\n",
      "\n",
      " ====================================== \n"
     ]
    }
   ],
   "source": [
    "for kolom in object_column:\n",
    "    print ('ini adalah unik value dari kolom : {}'.format(kolom))\n",
    "    print (dataset[kolom].unique())\n",
    "    print ('\\n ====================================== ') "
   ]
  },
  {
   "cell_type": "code",
   "execution_count": 11,
   "id": "9ea4fd16-41d9-416c-a4bd-824e5500ffe9",
   "metadata": {},
   "outputs": [
    {
     "data": {
      "text/plain": [
       "<bound method DataFrame.info of         Unnamed: 0       id  member_id  loan_amnt  funded_amnt  \\\n",
       "0              NaN  1077501    1296599       5000         5000   \n",
       "1              1.0  1077430    1314167       2500         2500   \n",
       "2              2.0  1077175    1313524       2400         2400   \n",
       "3              3.0  1076863    1277178      10000        10000   \n",
       "4              4.0  1075358    1311748       3000         3000   \n",
       "...            ...      ...        ...        ...          ...   \n",
       "466280    466280.0  8598660    1440975      18400        18400   \n",
       "466281    466281.0  9684700   11536848      22000        22000   \n",
       "466282    466282.0  9584776   11436914      20700        20700   \n",
       "466283    466283.0  9604874   11457002       2000         2000   \n",
       "466284    466284.0  9199665   11061576      10000        10000   \n",
       "\n",
       "        funded_amnt_inv        term  int_rate  installment grade  ...  \\\n",
       "0                4975.0   36 months     10.65       162.87     B  ...   \n",
       "1                2500.0   60 months     15.27        59.83     C  ...   \n",
       "2                2400.0   36 months     15.96        84.33     C  ...   \n",
       "3               10000.0   36 months     13.49       339.31     C  ...   \n",
       "4                3000.0   60 months     12.69        67.79     B  ...   \n",
       "...                 ...         ...       ...          ...   ...  ...   \n",
       "466280          18400.0   60 months     14.47       432.64     C  ...   \n",
       "466281          22000.0   60 months     19.97       582.50     D  ...   \n",
       "466282          20700.0   60 months     16.99       514.34     D  ...   \n",
       "466283           2000.0   36 months      7.90        62.59     A  ...   \n",
       "466284           9975.0   36 months     19.20       367.58     D  ...   \n",
       "\n",
       "       total_bal_il il_util open_rv_12m open_rv_24m  max_bal_bc all_util  \\\n",
       "0               NaN     NaN         NaN         NaN         NaN      NaN   \n",
       "1               NaN     NaN         NaN         NaN         NaN      NaN   \n",
       "2               NaN     NaN         NaN         NaN         NaN      NaN   \n",
       "3               NaN     NaN         NaN         NaN         NaN      NaN   \n",
       "4               NaN     NaN         NaN         NaN         NaN      NaN   \n",
       "...             ...     ...         ...         ...         ...      ...   \n",
       "466280          NaN     NaN         NaN         NaN         NaN      NaN   \n",
       "466281          NaN     NaN         NaN         NaN         NaN      NaN   \n",
       "466282          NaN     NaN         NaN         NaN         NaN      NaN   \n",
       "466283          NaN     NaN         NaN         NaN         NaN      NaN   \n",
       "466284          NaN     NaN         NaN         NaN         NaN      NaN   \n",
       "\n",
       "       total_rev_hi_lim inq_fi total_cu_tl inq_last_12m  \n",
       "0                   NaN    NaN         NaN          NaN  \n",
       "1                   NaN    NaN         NaN          NaN  \n",
       "2                   NaN    NaN         NaN          NaN  \n",
       "3                   NaN    NaN         NaN          NaN  \n",
       "4                   NaN    NaN         NaN          NaN  \n",
       "...                 ...    ...         ...          ...  \n",
       "466280          29900.0    NaN         NaN          NaN  \n",
       "466281          39400.0    NaN         NaN          NaN  \n",
       "466282          13100.0    NaN         NaN          NaN  \n",
       "466283          53100.0    NaN         NaN          NaN  \n",
       "466284          16000.0    NaN         NaN          NaN  \n",
       "\n",
       "[466285 rows x 75 columns]>"
      ]
     },
     "execution_count": 11,
     "metadata": {},
     "output_type": "execute_result"
    }
   ],
   "source": [
    "dataset.info"
   ]
  },
  {
   "cell_type": "code",
   "execution_count": 43,
   "id": "8ed6d80c-a0cd-4bae-9681-b21cb3cb0d6f",
   "metadata": {},
   "outputs": [
    {
     "data": {
      "text/plain": [
       "Unnamed: 0          float64\n",
       "id                    int64\n",
       "member_id             int64\n",
       "loan_amnt             int64\n",
       "funded_amnt           int64\n",
       "                     ...   \n",
       "all_util            float64\n",
       "total_rev_hi_lim    float64\n",
       "inq_fi              float64\n",
       "total_cu_tl         float64\n",
       "inq_last_12m        float64\n",
       "Length: 75, dtype: object"
      ]
     },
     "execution_count": 43,
     "metadata": {},
     "output_type": "execute_result"
    }
   ],
   "source": [
    "dataset.dtypes"
   ]
  },
  {
   "cell_type": "code",
   "execution_count": 12,
   "id": "32e46f07-3df0-4f94-86be-b2dbf64f77e4",
   "metadata": {},
   "outputs": [
    {
     "data": {
      "text/plain": [
       "array(['Fully Paid', 'Charged Off', 'Current', 'Default',\n",
       "       'Late (31-120 days)', 'In Grace Period', 'Late (16-30 days)',\n",
       "       'Does not meet the credit policy. Status:Fully Paid',\n",
       "       'Does not meet the credit policy. Status:Charged Off'],\n",
       "      dtype=object)"
      ]
     },
     "execution_count": 12,
     "metadata": {},
     "output_type": "execute_result"
    }
   ],
   "source": [
    "dataset['loan_status'].unique()"
   ]
  },
  {
   "cell_type": "code",
   "execution_count": 13,
   "id": "adfa7d74-e014-4f0a-823e-574a0824c1aa",
   "metadata": {},
   "outputs": [
    {
     "data": {
      "text/plain": [
       "<AxesSubplot:>"
      ]
     },
     "execution_count": 13,
     "metadata": {},
     "output_type": "execute_result"
    },
    {
     "data": {
      "image/png": "[encoded data removed]",
      "text/plain": [
       "<Figure size 432x288 with 1 Axes>"
      ]
     },
     "metadata": {
      "needs_background": "light"
     },
     "output_type": "display_data"
    }
   ],
   "source": [
    "dataset['loan_status'].value_counts().plot(kind='bar')"
   ]
  },
  {
   "cell_type": "code",
   "execution_count": 24,
   "id": "73004ce9-d8b5-49e2-a195-9aaaca13619b",
   "metadata": {},
   "outputs": [
    {
     "data": {
      "text/plain": [
       "Current                                                224226\n",
       "Fully Paid                                             184739\n",
       "Charged Off                                             42475\n",
       "Late (31-120 days)                                       6900\n",
       "In Grace Period                                          3146\n",
       "Does not meet the credit policy. Status:Fully Paid       1988\n",
       "Late (16-30 days)                                        1218\n",
       "Default                                                   832\n",
       "Does not meet the credit policy. Status:Charged Off       761\n",
       "Name: loan_status, dtype: int64"
      ]
     },
     "execution_count": 24,
     "metadata": {},
     "output_type": "execute_result"
    }
   ],
   "source": [
    "dataset['loan_status'].value_counts()"
   ]
  },
  {
   "cell_type": "code",
   "execution_count": 14,
   "id": "878ab504-bc86-4f56-a72e-88079010b22e",
   "metadata": {},
   "outputs": [
    {
     "data": {
      "text/plain": [
       "<AxesSubplot:>"
      ]
     },
     "execution_count": 14,
     "metadata": {},
     "output_type": "execute_result"
    },
    {
     "data": {
      "image/png": "[encoded data removed]",
      "text/plain": [
       "<Figure size 432x288 with 1 Axes>"
      ]
     },
     "metadata": {
      "needs_background": "light"
     },
     "output_type": "display_data"
    }
   ],
   "source": [
    "dataset['pymnt_plan'].value_counts().plot(kind='bar')"
   ]
  },
  {
   "cell_type": "code",
   "execution_count": 25,
   "id": "498b409d-41ed-43ab-ab7d-f9779bb1e138",
   "metadata": {},
   "outputs": [
    {
     "data": {
      "text/plain": [
       "n    466276\n",
       "y         9\n",
       "Name: pymnt_plan, dtype: int64"
      ]
     },
     "execution_count": 25,
     "metadata": {},
     "output_type": "execute_result"
    }
   ],
   "source": [
    "dataset['pymnt_plan'].value_counts()"
   ]
  },
  {
   "cell_type": "code",
   "execution_count": 16,
   "id": "c78b5611-8f78-4676-be5d-bf763d82ec61",
   "metadata": {},
   "outputs": [
    {
     "data": {
      "text/plain": [
       "<AxesSubplot:>"
      ]
     },
     "execution_count": 16,
     "metadata": {},
     "output_type": "execute_result"
    },
    {
     "data": {
      "image/png": "[encoded data removed]",
      "text/plain": [
       "<Figure size 432x288 with 1 Axes>"
      ]
     },
     "metadata": {
      "needs_background": "light"
     },
     "output_type": "display_data"
    }
   ],
   "source": [
    "dataset['verification_status'].value_counts().plot(kind='bar')"
   ]
  },
  {
   "cell_type": "code",
   "execution_count": 26,
   "id": "f7ede69e-3167-4fe2-a25d-3502abcb6e0b",
   "metadata": {},
   "outputs": [
    {
     "data": {
      "text/plain": [
       "Verified           168055\n",
       "Source Verified    149993\n",
       "Not Verified       148237\n",
       "Name: verification_status, dtype: int64"
      ]
     },
     "execution_count": 26,
     "metadata": {},
     "output_type": "execute_result"
    }
   ],
   "source": [
    "dataset['verification_status'].value_counts()"
   ]
  },
  {
   "cell_type": "code",
   "execution_count": 17,
   "id": "54c650e6-c0a0-4b06-b9c4-2ecfed4bd6fc",
   "metadata": {},
   "outputs": [
    {
     "data": {
      "text/plain": [
       "<AxesSubplot:>"
      ]
     },
     "execution_count": 17,
     "metadata": {},
     "output_type": "execute_result"
    },
    {
     "data": {
      "image/png": "[encoded data removed]",
      "text/plain": [
       "<Figure size 432x288 with 1 Axes>"
      ]
     },
     "metadata": {
      "needs_background": "light"
     },
     "output_type": "display_data"
    }
   ],
   "source": [
    "dataset['term'].value_counts().plot(kind='bar')"
   ]
  },
  {
   "cell_type": "code",
   "execution_count": 27,
   "id": "f08cfd98-6a00-4b0a-80c8-e1476a401c61",
   "metadata": {},
   "outputs": [
    {
     "data": {
      "text/plain": [
       " 36 months    337953\n",
       " 60 months    128332\n",
       "Name: term, dtype: int64"
      ]
     },
     "execution_count": 27,
     "metadata": {},
     "output_type": "execute_result"
    }
   ],
   "source": [
    "dataset['term'].value_counts()"
   ]
  },
  {
   "cell_type": "code",
   "execution_count": 28,
   "id": "d198d8ac-e0a9-4e19-93ee-ff9f3f9a802a",
   "metadata": {},
   "outputs": [
    {
     "data": {
      "text/plain": [
       "B    136929\n",
       "C    125293\n",
       "D     76888\n",
       "A     74867\n",
       "E     35757\n",
       "F     13229\n",
       "G      3322\n",
       "Name: grade, dtype: int64"
      ]
     },
     "execution_count": 28,
     "metadata": {},
     "output_type": "execute_result"
    }
   ],
   "source": [
    "dataset['grade'].value_counts()"
   ]
  },
  {
   "cell_type": "code",
   "execution_count": 19,
   "id": "64ae77b1-3355-4eef-bb54-c57212e74df1",
   "metadata": {},
   "outputs": [
    {
     "data": {
      "text/plain": [
       "<AxesSubplot:>"
      ]
     },
     "execution_count": 19,
     "metadata": {},
     "output_type": "execute_result"
    },
    {
     "data": {
      "image/png": "[encoded data removed]",
      "text/plain": [
       "<Figure size 432x288 with 1 Axes>"
      ]
     },
     "metadata": {
      "needs_background": "light"
     },
     "output_type": "display_data"
    }
   ],
   "source": [
    "dataset['grade'].value_counts().plot(kind='bar')"
   ]
  },
  {
   "cell_type": "code",
   "execution_count": 23,
   "id": "2b403e75-79b8-4649-aaab-b6b2af917434",
   "metadata": {},
   "outputs": [
    {
     "data": {
      "text/plain": [
       "10000    32930\n",
       "12000    25426\n",
       "15000    23370\n",
       "20000    22571\n",
       "35000    16458\n",
       "         ...  \n",
       "34075        1\n",
       "31475        1\n",
       "33400        1\n",
       "34825        1\n",
       "34775        1\n",
       "Name: funded_amnt, Length: 1354, dtype: int64"
      ]
     },
     "execution_count": 23,
     "metadata": {},
     "output_type": "execute_result"
    }
   ],
   "source": [
    "dataset['funded_amnt'].value_counts()"
   ]
  },
  {
   "cell_type": "code",
   "execution_count": 33,
   "id": "352d4ef4-ddbd-4052-9958-e96e1e0a8742",
   "metadata": {},
   "outputs": [
    {
     "data": {
      "text/plain": [
       "<AxesSubplot:ylabel='Frequency'>"
      ]
     },
     "execution_count": 33,
     "metadata": {},
     "output_type": "execute_result"
    },
    {
     "data": {
      "image/png": "[encoded data removed]",
      "text/plain": [
       "<Figure size 432x288 with 1 Axes>"
      ]
     },
     "metadata": {
      "needs_background": "light"
     },
     "output_type": "display_data"
    }
   ],
   "source": [
    "pd.value_counts(dataset['int_rate']).plot.hist()"
   ]
  },
  {
   "cell_type": "code",
   "execution_count": 35,
   "id": "9d7c0415-4b13-469a-9c5d-fc1ceb8ec7e3",
   "metadata": {},
   "outputs": [
    {
     "data": {
      "text/plain": [
       "CA    71450\n",
       "NY    40242\n",
       "TX    36439\n",
       "FL    31637\n",
       "IL    18612\n",
       "NJ    18061\n",
       "PA    16424\n",
       "OH    15237\n",
       "GA    14975\n",
       "VA    14222\n",
       "NC    12682\n",
       "MI    11549\n",
       "MA    11072\n",
       "MD    10974\n",
       "AZ    10712\n",
       "WA    10517\n",
       "CO     9739\n",
       "MN     8158\n",
       "MO     7508\n",
       "CT     7204\n",
       "IN     6525\n",
       "NV     6519\n",
       "TN     5984\n",
       "OR     5949\n",
       "WI     5911\n",
       "AL     5853\n",
       "SC     5583\n",
       "LA     5489\n",
       "KY     4438\n",
       "KS     4190\n",
       "OK     4117\n",
       "AR     3488\n",
       "UT     3428\n",
       "NM     2588\n",
       "HI     2487\n",
       "WV     2412\n",
       "NH     2232\n",
       "RI     2050\n",
       "DC     1426\n",
       "MT     1396\n",
       "DE     1272\n",
       "AK     1251\n",
       "MS     1226\n",
       "WY     1128\n",
       "SD      980\n",
       "VT      905\n",
       "IA       14\n",
       "NE       14\n",
       "ID       12\n",
       "ME        4\n",
       "Name: addr_state, dtype: int64"
      ]
     },
     "execution_count": 35,
     "metadata": {},
     "output_type": "execute_result"
    }
   ],
   "source": [
    "dataset['addr_state' ].value_counts()"
   ]
  },
  {
   "cell_type": "code",
   "execution_count": 108,
   "id": "d3ed8844-568e-4c9e-ad6c-6b3d70c691bf",
   "metadata": {},
   "outputs": [
    {
     "data": {
      "text/plain": [
       "<AxesSubplot:>"
      ]
     },
     "execution_count": 108,
     "metadata": {},
     "output_type": "execute_result"
    },
    {
     "data": {
      "image/png": "[encoded data removed]",
      "text/plain": [
       "<Figure size 1008x432 with 1 Axes>"
      ]
     },
     "metadata": {
      "needs_background": "light"
     },
     "output_type": "display_data"
    }
   ],
   "source": [
    "dataset['addr_state'].value_counts().head(10).plot(kind='bar',figsize=(14,6))"
   ]
  },
  {
   "cell_type": "code",
   "execution_count": 47,
   "id": "f9f3fdf3-5dea-4fa7-a8f4-347a2a761e47",
   "metadata": {},
   "outputs": [
    {
     "data": {
      "text/plain": [
       "1    100.0\n",
       "Name: policy_code, dtype: float64"
      ]
     },
     "execution_count": 47,
     "metadata": {},
     "output_type": "execute_result"
    }
   ],
   "source": [
    "dataset['policy_code'].value_counts(normalize = True)*100"
   ]
  },
  {
   "cell_type": "markdown",
   "id": "54911ff1-4e47-4f9c-9ca6-5d52c63ddf3f",
   "metadata": {},
   "source": [
    "peminjam 100 % memnuhi kriteria peminjaman"
   ]
  },
  {
   "cell_type": "code",
   "execution_count": 54,
   "id": "2387c76e-8f94-4900-b4f8-2aa89237f9fc",
   "metadata": {},
   "outputs": [
    {
     "data": {
      "text/plain": [
       "Teacher                              1.230690\n",
       "Manager                              1.011632\n",
       "Registered Nurse                     0.527927\n",
       "RN                                   0.502397\n",
       "Supervisor                           0.448373\n",
       "                                       ...   \n",
       "The Eastern Arizona AHEC             0.000228\n",
       "Delaware Quarries.com                0.000228\n",
       "McCauley trucking and warehousing    0.000228\n",
       "save mart supermarkets               0.000228\n",
       "Server Engineer Lead                 0.000228\n",
       "Name: emp_title, Length: 205475, dtype: float64"
      ]
     },
     "execution_count": 54,
     "metadata": {},
     "output_type": "execute_result"
    }
   ],
   "source": [
    "dataset['emp_title'].value_counts(normalize = True)*100"
   ]
  },
  {
   "cell_type": "code",
   "execution_count": 48,
   "id": "eb50f78c-d449-4b59-8d72-4abf50e44959",
   "metadata": {},
   "outputs": [
    {
     "data": {
      "text/plain": [
       "debt_consolidation    58.804165\n",
       "credit_card           22.337626\n",
       "home_improvement       5.691155\n",
       "other                  5.080584\n",
       "major_purchase         2.107724\n",
       "small_business         1.504016\n",
       "car                    1.157447\n",
       "medical                0.986950\n",
       "moving                 0.642097\n",
       "vacation               0.533365\n",
       "wedding                0.502482\n",
       "house                  0.486612\n",
       "educational            0.090503\n",
       "renewable_energy       0.075276\n",
       "Name: purpose, dtype: float64"
      ]
     },
     "execution_count": 48,
     "metadata": {},
     "output_type": "execute_result"
    }
   ],
   "source": [
    "dataset['purpose'].value_counts(normalize = True)*100"
   ]
  },
  {
   "cell_type": "markdown",
   "id": "a9c1b240-ed92-452b-a12c-71226cae5af9",
   "metadata": {},
   "source": [
    "Sekitar 58% dari pinjaman berisiko adalah untuk tujuan Konsolidasi Hutang.\n",
    "Risiko untuk kartu kredit adalah 2 dalam 22% kasus. Akan menarik untuk melihat apakah pinjaman untuk konsolidasi utang sebagian besar berisiko."
   ]
  },
  {
   "cell_type": "code",
   "execution_count": 51,
   "id": "9fc23726-bd35-49d7-9e51-09b745639d89",
   "metadata": {},
   "outputs": [
    {
     "data": {
      "text/plain": [
       " 36 months    69.57822\n",
       " 60 months    30.42178\n",
       "Name: term, dtype: float64"
      ]
     },
     "execution_count": 51,
     "metadata": {},
     "output_type": "execute_result"
    }
   ],
   "source": [
    "dataset[dataset['purpose']=='debt_consolidation'][\"term\"].value_counts(normalize = True)*100"
   ]
  },
  {
   "cell_type": "markdown",
   "id": "bdf341d2-8070-4d50-8be5-242ccb89e11a",
   "metadata": {},
   "source": [
    "sekitar 70% pinjaman konsolidasi hutang  jumlah pembayaran pinjamannya 36 bulan dan 60 bulan sekitar 30%"
   ]
  },
  {
   "cell_type": "code",
   "execution_count": 52,
   "id": "a8cde3a4-3e88-41b3-bd7b-281d79577ff5",
   "metadata": {},
   "outputs": [
    {
     "data": {
      "text/plain": [
       "n    99.998176\n",
       "y     0.001824\n",
       "Name: pymnt_plan, dtype: float64"
      ]
     },
     "execution_count": 52,
     "metadata": {},
     "output_type": "execute_result"
    }
   ],
   "source": [
    "dataset[dataset['purpose']=='debt_consolidation'][\"pymnt_plan\"].value_counts(normalize = True)*100"
   ]
  },
  {
   "cell_type": "code",
   "execution_count": 55,
   "id": "87c78df7-a067-44dd-bca9-6b3b7966223f",
   "metadata": {},
   "outputs": [
    {
     "data": {
      "text/plain": [
       "Teacher                                  1.281558\n",
       "Manager                                  1.033167\n",
       "Registered Nurse                         0.549459\n",
       "RN                                       0.526773\n",
       "Supervisor                               0.481017\n",
       "                                           ...   \n",
       "Politico                                 0.000385\n",
       "Centene Corp.                            0.000385\n",
       "Wekiva Springs Center                    0.000385\n",
       "US Reel                                  0.000385\n",
       "Chief of Interpretation (Park Ranger)    0.000385\n",
       "Name: emp_title, Length: 129518, dtype: float64"
      ]
     },
     "execution_count": 55,
     "metadata": {},
     "output_type": "execute_result"
    }
   ],
   "source": [
    "dataset[dataset['purpose']=='debt_consolidation'][\"emp_title\"].value_counts(normalize = True)*100"
   ]
  },
  {
   "cell_type": "markdown",
   "id": "82dc44fd-6ad8-4fc8-88dc-95915d8a8daa",
   "metadata": {},
   "source": [
    "sekitar 1% profesi guru yang memiliki pinjaman berupa konsolidasi hutang. "
   ]
  },
  {
   "cell_type": "code",
   "execution_count": 62,
   "id": "b4ad0a55-1d9b-4d9d-af1e-7c7f32bcd62e",
   "metadata": {},
   "outputs": [
    {
     "data": {
      "text/plain": [
       "<AxesSubplot:xlabel='purpose', ylabel='count'>"
      ]
     },
     "execution_count": 62,
     "metadata": {},
     "output_type": "execute_result"
    },
    {
     "data": {
      "image/png": "[encoded data removed]",
      "text/plain": [
       "<Figure size 1800x576 with 1 Axes>"
      ]
     },
     "metadata": {
      "needs_background": "light"
     },
     "output_type": "display_data"
    }
   ],
   "source": [
    "plt.figure(figsize=(25,8))\n",
    "sns.countplot(data=dataset, x='purpose')"
   ]
  },
  {
   "cell_type": "code",
   "execution_count": 83,
   "id": "ebe78044-3c7e-432a-ba6b-2c3c42a697e3",
   "metadata": {},
   "outputs": [
    {
     "data": {
      "image/png": "[encoded data removed]",
      "text/plain": [
       "<Figure size 720x576 with 1 Axes>"
      ]
     },
     "metadata": {
      "needs_background": "light"
     },
     "output_type": "display_data"
    }
   ],
   "source": [
    "fig = plt.figure(figsize = (10,8))\n",
    "sns.histplot(dataset[dataset[\"policy_code\"]==1][\"int_rate\"], kde = False)\n",
    "plt.axvline(x = dataset[dataset[\"policy_code\"]==1][\"int_rate\"].mean(), color = 'r') # Mean line\n",
    "#plt.axvline(x = loan_data[loan_data[\"credit_policy\"]==0][\"int_rate\"].median(), color = 'b') # median line\n",
    "plt.ylabel(\"Counts\")\n",
    "plt.text(15,17000,\"For average interest rate Loans. Mean={}\".format(round(dataset[dataset[\"policy_code\"]==1][\"int_rate\"].mean(),2)), fontsize =13)\n",
    "plt.show()"
   ]
  },
  {
   "cell_type": "markdown",
   "id": "08f1f53b-1a68-4c9f-bccb-7b93b08fce50",
   "metadata": {},
   "source": [
    "rata rata bunga adalah sebanyak 13%"
   ]
  },
  {
   "cell_type": "code",
   "execution_count": 91,
   "id": "89be13bb-c8c4-4397-b76c-16f7165a6855",
   "metadata": {},
   "outputs": [
    {
     "data": {
      "image/png": "[encoded data removed]",
      "text/plain": [
       "<Figure size 720x576 with 1 Axes>"
      ]
     },
     "metadata": {
      "needs_background": "light"
     },
     "output_type": "display_data"
    }
   ],
   "source": [
    "fig = plt.figure(figsize = (10,8))\n",
    "sns.histplot(dataset[dataset[\"policy_code\"]==1][\"dti\"], kde = False)\n",
    "plt.axvline(x = dataset[dataset[\"policy_code\"]==1][\"dti\"].mean(), color = 'r') # Mean line\n",
    "#plt.axvline(x = loan_data[loan_data[\"credit_policy\"]==0][\"int_rate\"].median(), color = 'b') # median line\n",
    "plt.ylabel(\"Counts\")\n",
    "plt.text(18,6000,\"For average interest rate Loans. Mean={}\".format(round(dataset[dataset[\"policy_code\"]==1][\"dti\"].mean(),2)), fontsize =13)\n",
    "plt.title(\"Debt to income ratio\") \n",
    "plt.show()"
   ]
  },
  {
   "cell_type": "markdown",
   "id": "9974ce9b-3aef-4d81-bcd8-b51e5591015a",
   "metadata": {},
   "source": [
    "Rasio Hutang terhadap Pendapatan sebesar 17%"
   ]
  },
  {
   "cell_type": "code",
   "execution_count": 98,
   "id": "f7270d9d-5895-4246-9e4b-e5fee6a704b9",
   "metadata": {},
   "outputs": [
    {
     "data": {
      "image/png": "[encoded data removed]",
      "text/plain": [
       "<Figure size 720x576 with 1 Axes>"
      ]
     },
     "metadata": {
      "needs_background": "light"
     },
     "output_type": "display_data"
    }
   ],
   "source": [
    "fig = plt.figure(figsize = (10,8))\n",
    "\n",
    "ax1 = plt.subplot(211)\n",
    "\n",
    "sns.histplot(dataset[(dataset[\"policy_code\"]==1) & (dataset[\"purpose\"]==\"debt_consolidation\")][\"dti\"], kde = False)\n",
    "plt.axvline(x = dataset[(dataset[\"policy_code\"]==1) & (dataset[\"purpose\"]==\"debt_consolidation\")][\"dti\"].mean(), color = 'r') # Mean line\n",
    "#plt.axvline(x = loan_data[loan_data[\"credit_policy\"]==0][\"int_rate\"].median(), color = 'b') # median line\n",
    "plt.ylabel(\"Counts\")\n",
    "plt.xlabel(\"Debt-to-income Ratio\", fontsize = 14)\n",
    "plt.text(30,3500,\"For Debt Consolidation. Mean={}\".format(round(dataset[(dataset[\"policy_code\"]==1) & (dataset[\"purpose\"]==\"debt_consolidation\")][\"dti\"].mean(),2)), fontsize =13)\n",
    "plt.show()"
   ]
  },
  {
   "cell_type": "code",
   "execution_count": 100,
   "id": "abe915ca-d1e7-40ea-b6fa-592cf9116eff",
   "metadata": {},
   "outputs": [
    {
     "data": {
      "text/html": [
       "<div>\n",
       "<style scoped>\n",
       "    .dataframe tbody tr th:only-of-type {\n",
       "        vertical-align: middle;\n",
       "    }\n",
       "\n",
       "    .dataframe tbody tr th {\n",
       "        vertical-align: top;\n",
       "    }\n",
       "\n",
       "    .dataframe thead th {\n",
       "        text-align: right;\n",
       "    }\n",
       "</style>\n",
       "<table border=\"1\" class=\"dataframe\">\n",
       "  <thead>\n",
       "    <tr style=\"text-align: right;\">\n",
       "      <th></th>\n",
       "      <th>purpose</th>\n",
       "      <th>policy_code</th>\n",
       "      <th>dti</th>\n",
       "    </tr>\n",
       "  </thead>\n",
       "  <tbody>\n",
       "    <tr>\n",
       "      <th>0</th>\n",
       "      <td>car</td>\n",
       "      <td>1</td>\n",
       "      <td>13.381486</td>\n",
       "    </tr>\n",
       "    <tr>\n",
       "      <th>1</th>\n",
       "      <td>credit_card</td>\n",
       "      <td>1</td>\n",
       "      <td>17.524348</td>\n",
       "    </tr>\n",
       "    <tr>\n",
       "      <th>2</th>\n",
       "      <td>debt_consolidation</td>\n",
       "      <td>1</td>\n",
       "      <td>17.935279</td>\n",
       "    </tr>\n",
       "    <tr>\n",
       "      <th>3</th>\n",
       "      <td>educational</td>\n",
       "      <td>1</td>\n",
       "      <td>11.536204</td>\n",
       "    </tr>\n",
       "    <tr>\n",
       "      <th>4</th>\n",
       "      <td>home_improvement</td>\n",
       "      <td>1</td>\n",
       "      <td>14.514199</td>\n",
       "    </tr>\n",
       "    <tr>\n",
       "      <th>5</th>\n",
       "      <td>house</td>\n",
       "      <td>1</td>\n",
       "      <td>13.239136</td>\n",
       "    </tr>\n",
       "    <tr>\n",
       "      <th>6</th>\n",
       "      <td>major_purchase</td>\n",
       "      <td>1</td>\n",
       "      <td>13.686181</td>\n",
       "    </tr>\n",
       "    <tr>\n",
       "      <th>7</th>\n",
       "      <td>medical</td>\n",
       "      <td>1</td>\n",
       "      <td>15.936890</td>\n",
       "    </tr>\n",
       "    <tr>\n",
       "      <th>8</th>\n",
       "      <td>moving</td>\n",
       "      <td>1</td>\n",
       "      <td>15.145489</td>\n",
       "    </tr>\n",
       "    <tr>\n",
       "      <th>9</th>\n",
       "      <td>other</td>\n",
       "      <td>1</td>\n",
       "      <td>15.801812</td>\n",
       "    </tr>\n",
       "    <tr>\n",
       "      <th>10</th>\n",
       "      <td>renewable_energy</td>\n",
       "      <td>1</td>\n",
       "      <td>14.443095</td>\n",
       "    </tr>\n",
       "    <tr>\n",
       "      <th>11</th>\n",
       "      <td>small_business</td>\n",
       "      <td>1</td>\n",
       "      <td>13.347286</td>\n",
       "    </tr>\n",
       "    <tr>\n",
       "      <th>12</th>\n",
       "      <td>vacation</td>\n",
       "      <td>1</td>\n",
       "      <td>16.047532</td>\n",
       "    </tr>\n",
       "    <tr>\n",
       "      <th>13</th>\n",
       "      <td>wedding</td>\n",
       "      <td>1</td>\n",
       "      <td>14.015693</td>\n",
       "    </tr>\n",
       "  </tbody>\n",
       "</table>\n",
       "</div>"
      ],
      "text/plain": [
       "               purpose  policy_code        dti\n",
       "0                  car            1  13.381486\n",
       "1          credit_card            1  17.524348\n",
       "2   debt_consolidation            1  17.935279\n",
       "3          educational            1  11.536204\n",
       "4     home_improvement            1  14.514199\n",
       "5                house            1  13.239136\n",
       "6       major_purchase            1  13.686181\n",
       "7              medical            1  15.936890\n",
       "8               moving            1  15.145489\n",
       "9                other            1  15.801812\n",
       "10    renewable_energy            1  14.443095\n",
       "11      small_business            1  13.347286\n",
       "12            vacation            1  16.047532\n",
       "13             wedding            1  14.015693"
      ]
     },
     "execution_count": 100,
     "metadata": {},
     "output_type": "execute_result"
    }
   ],
   "source": [
    "mean_dti_by_policy_code= dataset.groupby([\"purpose\",\"policy_code\"])[\"dti\"].mean().reset_index()\n",
    "mean_dti_by_policy_code"
   ]
  },
  {
   "cell_type": "code",
   "execution_count": 104,
   "id": "6503df46-b1fa-4b3e-8a89-a2da89f43dd5",
   "metadata": {},
   "outputs": [
    {
     "data": {
      "image/png": "[encoded data removed]",
      "text/plain": [
       "<Figure size 720x576 with 1 Axes>"
      ]
     },
     "metadata": {
      "needs_background": "light"
     },
     "output_type": "display_data"
    }
   ],
   "source": [
    "fig = plt.figure(figsize = (10,8))\n",
    "ax1 = plt.subplot(1,1,1)\n",
    "\n",
    "sns.barplot(data = mean_dti_by_policy_code,x =\"purpose\" , y=\"dti\", hue = \"policy_code\")\n",
    "plt.xticks(rotation = 90, fontsize = 14)\n",
    "plt.ylabel(\"Debt to Income Ratio\", fontsize = 14)\n",
    "plt.xlabel(\"Purpose\", fontsize = 13)\n",
    "plt.title(\"Purpose vs DTI Loans\", fontsize = 14)\n",
    "\n",
    "ax2 = ax2.twinx().twiny()\n",
    "#plt.axhline(y = loan_data[loan_data[\"policy_code\"]==0][\"dti\"].mean(), color = 'blue', linestyle = '--', label = \"Avg DTI for Risky loans\")\n",
    "plt.axhline(y = dataset[dataset[\"policy_code\"]==1][\"dti\"].mean(), color = 'orange', linestyle = '--', label = \"Avg DTI for loans\")\n",
    "plt.legend(loc = 1)\n",
    "plt.show()"
   ]
  },
  {
   "cell_type": "markdown",
   "id": "0fa2b3f5-7648-4192-b84c-b42fe7ee864c",
   "metadata": {},
   "source": [
    "Semakin tinggi rasio DTI, semakin tinggi peluang risiko. \n",
    "debt consolidation dan credit card memiliki debt income ratio di atas rata rata\n",
    "\n",
    "Akan menarik untuk memeriksa variabel-variabel yang berkorelasi dengan DTI."
   ]
  },
  {
   "cell_type": "markdown",
   "id": "ab5fecee-090b-465b-9dff-a1d0d65be7c7",
   "metadata": {},
   "source": [
    "## DATA PREPARATION"
   ]
  },
  {
   "cell_type": "markdown",
   "id": "653f3a84-bc37-4ead-9a24-ddbf7b991159",
   "metadata": {},
   "source": [
    "## Check duplicate"
   ]
  },
  {
   "cell_type": "code",
   "execution_count": 109,
   "id": "80c9bc0f-eaa3-4875-9053-2c352724fcd7",
   "metadata": {},
   "outputs": [
    {
     "data": {
      "text/plain": [
       "False"
      ]
     },
     "execution_count": 109,
     "metadata": {},
     "output_type": "execute_result"
    }
   ],
   "source": [
    "dataset.duplicated().any()"
   ]
  },
  {
   "cell_type": "markdown",
   "id": "1dd3ae29-14fe-452f-a16b-08d2a790d0aa",
   "metadata": {},
   "source": [
    "## Missing Value"
   ]
  },
  {
   "cell_type": "code",
   "execution_count": 131,
   "id": "b373f47d-4ecb-49a0-b8af-cf62f9185c34",
   "metadata": {},
   "outputs": [
    {
     "data": {
      "text/html": [
       "<div>\n",
       "<style scoped>\n",
       "    .dataframe tbody tr th:only-of-type {\n",
       "        vertical-align: middle;\n",
       "    }\n",
       "\n",
       "    .dataframe tbody tr th {\n",
       "        vertical-align: top;\n",
       "    }\n",
       "\n",
       "    .dataframe thead th {\n",
       "        text-align: right;\n",
       "    }\n",
       "</style>\n",
       "<table border=\"1\" class=\"dataframe\">\n",
       "  <thead>\n",
       "    <tr style=\"text-align: right;\">\n",
       "      <th></th>\n",
       "      <th>Total</th>\n",
       "      <th>Percent</th>\n",
       "    </tr>\n",
       "  </thead>\n",
       "  <tbody>\n",
       "    <tr>\n",
       "      <th>emp_title</th>\n",
       "      <td>27588</td>\n",
       "      <td>5.92</td>\n",
       "    </tr>\n",
       "    <tr>\n",
       "      <th>emp_length</th>\n",
       "      <td>21008</td>\n",
       "      <td>4.51</td>\n",
       "    </tr>\n",
       "    <tr>\n",
       "      <th>revol_util</th>\n",
       "      <td>2624</td>\n",
       "      <td>0.56</td>\n",
       "    </tr>\n",
       "    <tr>\n",
       "      <th>revol_bal</th>\n",
       "      <td>2269</td>\n",
       "      <td>0.49</td>\n",
       "    </tr>\n",
       "    <tr>\n",
       "      <th>total_rec_prncp</th>\n",
       "      <td>399</td>\n",
       "      <td>0.09</td>\n",
       "    </tr>\n",
       "    <tr>\n",
       "      <th>last_pymnt_amnt</th>\n",
       "      <td>390</td>\n",
       "      <td>0.08</td>\n",
       "    </tr>\n",
       "    <tr>\n",
       "      <th>total_rec_int</th>\n",
       "      <td>379</td>\n",
       "      <td>0.08</td>\n",
       "    </tr>\n",
       "    <tr>\n",
       "      <th>last_pymnt_d</th>\n",
       "      <td>376</td>\n",
       "      <td>0.08</td>\n",
       "    </tr>\n",
       "    <tr>\n",
       "      <th>total_pymnt_inv</th>\n",
       "      <td>365</td>\n",
       "      <td>0.08</td>\n",
       "    </tr>\n",
       "    <tr>\n",
       "      <th>dti</th>\n",
       "      <td>363</td>\n",
       "      <td>0.08</td>\n",
       "    </tr>\n",
       "    <tr>\n",
       "      <th>funded_amnt_inv</th>\n",
       "      <td>233</td>\n",
       "      <td>0.05</td>\n",
       "    </tr>\n",
       "    <tr>\n",
       "      <th>total_pymnt</th>\n",
       "      <td>87</td>\n",
       "      <td>0.02</td>\n",
       "    </tr>\n",
       "    <tr>\n",
       "      <th>last_credit_pull_d</th>\n",
       "      <td>42</td>\n",
       "      <td>0.01</td>\n",
       "    </tr>\n",
       "    <tr>\n",
       "      <th>open_acc</th>\n",
       "      <td>36</td>\n",
       "      <td>0.01</td>\n",
       "    </tr>\n",
       "    <tr>\n",
       "      <th>earliest_cr_line</th>\n",
       "      <td>29</td>\n",
       "      <td>0.01</td>\n",
       "    </tr>\n",
       "    <tr>\n",
       "      <th>total_acc</th>\n",
       "      <td>29</td>\n",
       "      <td>0.01</td>\n",
       "    </tr>\n",
       "    <tr>\n",
       "      <th>title</th>\n",
       "      <td>21</td>\n",
       "      <td>0.00</td>\n",
       "    </tr>\n",
       "    <tr>\n",
       "      <th>annual_inc</th>\n",
       "      <td>4</td>\n",
       "      <td>0.00</td>\n",
       "    </tr>\n",
       "    <tr>\n",
       "      <th>Unnamed: 0</th>\n",
       "      <td>1</td>\n",
       "      <td>0.00</td>\n",
       "    </tr>\n",
       "    <tr>\n",
       "      <th>url</th>\n",
       "      <td>0</td>\n",
       "      <td>0.00</td>\n",
       "    </tr>\n",
       "    <tr>\n",
       "      <th>grade</th>\n",
       "      <td>0</td>\n",
       "      <td>0.00</td>\n",
       "    </tr>\n",
       "    <tr>\n",
       "      <th>member_id</th>\n",
       "      <td>0</td>\n",
       "      <td>0.00</td>\n",
       "    </tr>\n",
       "    <tr>\n",
       "      <th>loan_amnt</th>\n",
       "      <td>0</td>\n",
       "      <td>0.00</td>\n",
       "    </tr>\n",
       "    <tr>\n",
       "      <th>initial_list_status</th>\n",
       "      <td>0</td>\n",
       "      <td>0.00</td>\n",
       "    </tr>\n",
       "    <tr>\n",
       "      <th>funded_amnt</th>\n",
       "      <td>0</td>\n",
       "      <td>0.00</td>\n",
       "    </tr>\n",
       "    <tr>\n",
       "      <th>id</th>\n",
       "      <td>0</td>\n",
       "      <td>0.00</td>\n",
       "    </tr>\n",
       "    <tr>\n",
       "      <th>term</th>\n",
       "      <td>0</td>\n",
       "      <td>0.00</td>\n",
       "    </tr>\n",
       "    <tr>\n",
       "      <th>int_rate</th>\n",
       "      <td>0</td>\n",
       "      <td>0.00</td>\n",
       "    </tr>\n",
       "    <tr>\n",
       "      <th>installment</th>\n",
       "      <td>0</td>\n",
       "      <td>0.00</td>\n",
       "    </tr>\n",
       "    <tr>\n",
       "      <th>sub_grade</th>\n",
       "      <td>0</td>\n",
       "      <td>0.00</td>\n",
       "    </tr>\n",
       "    <tr>\n",
       "      <th>pymnt_plan</th>\n",
       "      <td>0</td>\n",
       "      <td>0.00</td>\n",
       "    </tr>\n",
       "    <tr>\n",
       "      <th>addr_state</th>\n",
       "      <td>0</td>\n",
       "      <td>0.00</td>\n",
       "    </tr>\n",
       "    <tr>\n",
       "      <th>zip_code</th>\n",
       "      <td>0</td>\n",
       "      <td>0.00</td>\n",
       "    </tr>\n",
       "    <tr>\n",
       "      <th>home_ownership</th>\n",
       "      <td>0</td>\n",
       "      <td>0.00</td>\n",
       "    </tr>\n",
       "    <tr>\n",
       "      <th>purpose</th>\n",
       "      <td>0</td>\n",
       "      <td>0.00</td>\n",
       "    </tr>\n",
       "    <tr>\n",
       "      <th>policy_code</th>\n",
       "      <td>0</td>\n",
       "      <td>0.00</td>\n",
       "    </tr>\n",
       "    <tr>\n",
       "      <th>verification_status</th>\n",
       "      <td>0</td>\n",
       "      <td>0.00</td>\n",
       "    </tr>\n",
       "    <tr>\n",
       "      <th>issue_d</th>\n",
       "      <td>0</td>\n",
       "      <td>0.00</td>\n",
       "    </tr>\n",
       "    <tr>\n",
       "      <th>loan_status</th>\n",
       "      <td>0</td>\n",
       "      <td>0.00</td>\n",
       "    </tr>\n",
       "    <tr>\n",
       "      <th>application_type</th>\n",
       "      <td>0</td>\n",
       "      <td>0.00</td>\n",
       "    </tr>\n",
       "  </tbody>\n",
       "</table>\n",
       "</div>"
      ],
      "text/plain": [
       "                     Total  Percent\n",
       "emp_title            27588     5.92\n",
       "emp_length           21008     4.51\n",
       "revol_util            2624     0.56\n",
       "revol_bal             2269     0.49\n",
       "total_rec_prncp        399     0.09\n",
       "last_pymnt_amnt        390     0.08\n",
       "total_rec_int          379     0.08\n",
       "last_pymnt_d           376     0.08\n",
       "total_pymnt_inv        365     0.08\n",
       "dti                    363     0.08\n",
       "funded_amnt_inv        233     0.05\n",
       "total_pymnt             87     0.02\n",
       "last_credit_pull_d      42     0.01\n",
       "open_acc                36     0.01\n",
       "earliest_cr_line        29     0.01\n",
       "total_acc               29     0.01\n",
       "title                   21     0.00\n",
       "annual_inc               4     0.00\n",
       "Unnamed: 0               1     0.00\n",
       "url                      0     0.00\n",
       "grade                    0     0.00\n",
       "member_id                0     0.00\n",
       "loan_amnt                0     0.00\n",
       "initial_list_status      0     0.00\n",
       "funded_amnt              0     0.00\n",
       "id                       0     0.00\n",
       "term                     0     0.00\n",
       "int_rate                 0     0.00\n",
       "installment              0     0.00\n",
       "sub_grade                0     0.00\n",
       "pymnt_plan               0     0.00\n",
       "addr_state               0     0.00\n",
       "zip_code                 0     0.00\n",
       "home_ownership           0     0.00\n",
       "purpose                  0     0.00\n",
       "policy_code              0     0.00\n",
       "verification_status      0     0.00\n",
       "issue_d                  0     0.00\n",
       "loan_status              0     0.00\n",
       "application_type         0     0.00"
      ]
     },
     "execution_count": 131,
     "metadata": {},
     "output_type": "execute_result"
    }
   ],
   "source": [
    "total = dataset.isnull().sum().sort_values(ascending = False)\n",
    "percent = round((dataset.isnull().sum()/dataset.isnull().count()*100),2).sort_values(ascending = False)\n",
    "missing_loan_data  = pd.concat([total, percent], axis=1, keys=['Total', 'Percent'])\n",
    "missing_loan_data.tail(40)"
   ]
  },
  {
   "cell_type": "markdown",
   "id": "1511d64a-a1a5-4237-b3f1-af447ddadcae",
   "metadata": {},
   "source": [
    "karena data masih kotor dan belum bersih, maka kita bersihkan dulu yang berkorelasi. \n"
   ]
  },
  {
   "cell_type": "markdown",
   "id": "4ca46b29-2902-499f-9150-cffb221a7ad4",
   "metadata": {},
   "source": [
    "### Handling Missing Value "
   ]
  },
  {
   "cell_type": "code",
   "execution_count": 126,
   "id": "05672bff-7145-464a-ab64-8af0480b969b",
   "metadata": {},
   "outputs": [
    {
     "data": {
      "text/html": [
       "<div>\n",
       "<style scoped>\n",
       "    .dataframe tbody tr th:only-of-type {\n",
       "        vertical-align: middle;\n",
       "    }\n",
       "\n",
       "    .dataframe tbody tr th {\n",
       "        vertical-align: top;\n",
       "    }\n",
       "\n",
       "    .dataframe thead th {\n",
       "        text-align: right;\n",
       "    }\n",
       "</style>\n",
       "<table border=\"1\" class=\"dataframe\">\n",
       "  <thead>\n",
       "    <tr style=\"text-align: right;\">\n",
       "      <th></th>\n",
       "      <th>Unnamed: 0</th>\n",
       "      <th>id</th>\n",
       "      <th>member_id</th>\n",
       "      <th>loan_amnt</th>\n",
       "      <th>funded_amnt</th>\n",
       "      <th>funded_amnt_inv</th>\n",
       "      <th>term</th>\n",
       "      <th>int_rate</th>\n",
       "      <th>installment</th>\n",
       "      <th>grade</th>\n",
       "      <th>...</th>\n",
       "      <th>total_bal_il</th>\n",
       "      <th>il_util</th>\n",
       "      <th>open_rv_12m</th>\n",
       "      <th>open_rv_24m</th>\n",
       "      <th>max_bal_bc</th>\n",
       "      <th>all_util</th>\n",
       "      <th>total_rev_hi_lim</th>\n",
       "      <th>inq_fi</th>\n",
       "      <th>total_cu_tl</th>\n",
       "      <th>inq_last_12m</th>\n",
       "    </tr>\n",
       "  </thead>\n",
       "  <tbody>\n",
       "    <tr>\n",
       "      <th>0</th>\n",
       "      <td>NaN</td>\n",
       "      <td>1077501</td>\n",
       "      <td>1296599</td>\n",
       "      <td>5000</td>\n",
       "      <td>5000</td>\n",
       "      <td>4975.0</td>\n",
       "      <td>36 months</td>\n",
       "      <td>10.65</td>\n",
       "      <td>162.87</td>\n",
       "      <td>B</td>\n",
       "      <td>...</td>\n",
       "      <td>NaN</td>\n",
       "      <td>NaN</td>\n",
       "      <td>NaN</td>\n",
       "      <td>NaN</td>\n",
       "      <td>NaN</td>\n",
       "      <td>NaN</td>\n",
       "      <td>NaN</td>\n",
       "      <td>NaN</td>\n",
       "      <td>NaN</td>\n",
       "      <td>NaN</td>\n",
       "    </tr>\n",
       "    <tr>\n",
       "      <th>2</th>\n",
       "      <td>2.0</td>\n",
       "      <td>1077175</td>\n",
       "      <td>1313524</td>\n",
       "      <td>2400</td>\n",
       "      <td>2400</td>\n",
       "      <td>2400.0</td>\n",
       "      <td>36 months</td>\n",
       "      <td>15.96</td>\n",
       "      <td>84.33</td>\n",
       "      <td>C</td>\n",
       "      <td>...</td>\n",
       "      <td>NaN</td>\n",
       "      <td>NaN</td>\n",
       "      <td>NaN</td>\n",
       "      <td>NaN</td>\n",
       "      <td>NaN</td>\n",
       "      <td>NaN</td>\n",
       "      <td>NaN</td>\n",
       "      <td>NaN</td>\n",
       "      <td>NaN</td>\n",
       "      <td>NaN</td>\n",
       "    </tr>\n",
       "    <tr>\n",
       "      <th>8</th>\n",
       "      <td>8.0</td>\n",
       "      <td>1071795</td>\n",
       "      <td>1306957</td>\n",
       "      <td>5600</td>\n",
       "      <td>5600</td>\n",
       "      <td>5600.0</td>\n",
       "      <td>60 months</td>\n",
       "      <td>21.28</td>\n",
       "      <td>152.39</td>\n",
       "      <td>F</td>\n",
       "      <td>...</td>\n",
       "      <td>NaN</td>\n",
       "      <td>NaN</td>\n",
       "      <td>NaN</td>\n",
       "      <td>NaN</td>\n",
       "      <td>NaN</td>\n",
       "      <td>NaN</td>\n",
       "      <td>NaN</td>\n",
       "      <td>NaN</td>\n",
       "      <td>NaN</td>\n",
       "      <td>NaN</td>\n",
       "    </tr>\n",
       "    <tr>\n",
       "      <th>30</th>\n",
       "      <td>30.0</td>\n",
       "      <td>1032111</td>\n",
       "      <td>1261745</td>\n",
       "      <td>4375</td>\n",
       "      <td>4375</td>\n",
       "      <td>4375.0</td>\n",
       "      <td>36 months</td>\n",
       "      <td>7.51</td>\n",
       "      <td>136.11</td>\n",
       "      <td>A</td>\n",
       "      <td>...</td>\n",
       "      <td>NaN</td>\n",
       "      <td>NaN</td>\n",
       "      <td>NaN</td>\n",
       "      <td>NaN</td>\n",
       "      <td>NaN</td>\n",
       "      <td>NaN</td>\n",
       "      <td>NaN</td>\n",
       "      <td>NaN</td>\n",
       "      <td>NaN</td>\n",
       "      <td>NaN</td>\n",
       "    </tr>\n",
       "    <tr>\n",
       "      <th>42</th>\n",
       "      <td>42.0</td>\n",
       "      <td>1069314</td>\n",
       "      <td>1304202</td>\n",
       "      <td>3000</td>\n",
       "      <td>3000</td>\n",
       "      <td>3000.0</td>\n",
       "      <td>36 months</td>\n",
       "      <td>18.25</td>\n",
       "      <td>108.84</td>\n",
       "      <td>D</td>\n",
       "      <td>...</td>\n",
       "      <td>NaN</td>\n",
       "      <td>NaN</td>\n",
       "      <td>NaN</td>\n",
       "      <td>NaN</td>\n",
       "      <td>NaN</td>\n",
       "      <td>NaN</td>\n",
       "      <td>NaN</td>\n",
       "      <td>NaN</td>\n",
       "      <td>NaN</td>\n",
       "      <td>NaN</td>\n",
       "    </tr>\n",
       "    <tr>\n",
       "      <th>...</th>\n",
       "      <td>...</td>\n",
       "      <td>...</td>\n",
       "      <td>...</td>\n",
       "      <td>...</td>\n",
       "      <td>...</td>\n",
       "      <td>...</td>\n",
       "      <td>...</td>\n",
       "      <td>...</td>\n",
       "      <td>...</td>\n",
       "      <td>...</td>\n",
       "      <td>...</td>\n",
       "      <td>...</td>\n",
       "      <td>...</td>\n",
       "      <td>...</td>\n",
       "      <td>...</td>\n",
       "      <td>...</td>\n",
       "      <td>...</td>\n",
       "      <td>...</td>\n",
       "      <td>...</td>\n",
       "      <td>...</td>\n",
       "      <td>...</td>\n",
       "    </tr>\n",
       "    <tr>\n",
       "      <th>466256</th>\n",
       "      <td>466256.0</td>\n",
       "      <td>9835883</td>\n",
       "      <td>9309502</td>\n",
       "      <td>15000</td>\n",
       "      <td>15000</td>\n",
       "      <td>15000.0</td>\n",
       "      <td>36 months</td>\n",
       "      <td>16.99</td>\n",
       "      <td>534.72</td>\n",
       "      <td>D</td>\n",
       "      <td>...</td>\n",
       "      <td>NaN</td>\n",
       "      <td>NaN</td>\n",
       "      <td>NaN</td>\n",
       "      <td>NaN</td>\n",
       "      <td>NaN</td>\n",
       "      <td>NaN</td>\n",
       "      <td>29300.0</td>\n",
       "      <td>NaN</td>\n",
       "      <td>NaN</td>\n",
       "      <td>NaN</td>\n",
       "    </tr>\n",
       "    <tr>\n",
       "      <th>466262</th>\n",
       "      <td>466262.0</td>\n",
       "      <td>9825193</td>\n",
       "      <td>11677266</td>\n",
       "      <td>14000</td>\n",
       "      <td>14000</td>\n",
       "      <td>14000.0</td>\n",
       "      <td>36 months</td>\n",
       "      <td>16.24</td>\n",
       "      <td>493.86</td>\n",
       "      <td>C</td>\n",
       "      <td>...</td>\n",
       "      <td>NaN</td>\n",
       "      <td>NaN</td>\n",
       "      <td>NaN</td>\n",
       "      <td>NaN</td>\n",
       "      <td>NaN</td>\n",
       "      <td>NaN</td>\n",
       "      <td>24400.0</td>\n",
       "      <td>NaN</td>\n",
       "      <td>NaN</td>\n",
       "      <td>NaN</td>\n",
       "    </tr>\n",
       "    <tr>\n",
       "      <th>466265</th>\n",
       "      <td>466265.0</td>\n",
       "      <td>9774870</td>\n",
       "      <td>11626983</td>\n",
       "      <td>32000</td>\n",
       "      <td>32000</td>\n",
       "      <td>31975.0</td>\n",
       "      <td>36 months</td>\n",
       "      <td>7.90</td>\n",
       "      <td>1001.29</td>\n",
       "      <td>A</td>\n",
       "      <td>...</td>\n",
       "      <td>NaN</td>\n",
       "      <td>NaN</td>\n",
       "      <td>NaN</td>\n",
       "      <td>NaN</td>\n",
       "      <td>NaN</td>\n",
       "      <td>NaN</td>\n",
       "      <td>30800.0</td>\n",
       "      <td>NaN</td>\n",
       "      <td>NaN</td>\n",
       "      <td>NaN</td>\n",
       "    </tr>\n",
       "    <tr>\n",
       "      <th>466273</th>\n",
       "      <td>466273.0</td>\n",
       "      <td>9199716</td>\n",
       "      <td>11061625</td>\n",
       "      <td>6000</td>\n",
       "      <td>6000</td>\n",
       "      <td>6000.0</td>\n",
       "      <td>36 months</td>\n",
       "      <td>10.99</td>\n",
       "      <td>196.41</td>\n",
       "      <td>B</td>\n",
       "      <td>...</td>\n",
       "      <td>NaN</td>\n",
       "      <td>NaN</td>\n",
       "      <td>NaN</td>\n",
       "      <td>NaN</td>\n",
       "      <td>NaN</td>\n",
       "      <td>NaN</td>\n",
       "      <td>25400.0</td>\n",
       "      <td>NaN</td>\n",
       "      <td>NaN</td>\n",
       "      <td>NaN</td>\n",
       "    </tr>\n",
       "    <tr>\n",
       "      <th>466284</th>\n",
       "      <td>466284.0</td>\n",
       "      <td>9199665</td>\n",
       "      <td>11061576</td>\n",
       "      <td>10000</td>\n",
       "      <td>10000</td>\n",
       "      <td>9975.0</td>\n",
       "      <td>36 months</td>\n",
       "      <td>19.20</td>\n",
       "      <td>367.58</td>\n",
       "      <td>D</td>\n",
       "      <td>...</td>\n",
       "      <td>NaN</td>\n",
       "      <td>NaN</td>\n",
       "      <td>NaN</td>\n",
       "      <td>NaN</td>\n",
       "      <td>NaN</td>\n",
       "      <td>NaN</td>\n",
       "      <td>16000.0</td>\n",
       "      <td>NaN</td>\n",
       "      <td>NaN</td>\n",
       "      <td>NaN</td>\n",
       "    </tr>\n",
       "  </tbody>\n",
       "</table>\n",
       "<p>27588 rows × 75 columns</p>\n",
       "</div>"
      ],
      "text/plain": [
       "        Unnamed: 0       id  member_id  loan_amnt  funded_amnt  \\\n",
       "0              NaN  1077501    1296599       5000         5000   \n",
       "2              2.0  1077175    1313524       2400         2400   \n",
       "8              8.0  1071795    1306957       5600         5600   \n",
       "30            30.0  1032111    1261745       4375         4375   \n",
       "42            42.0  1069314    1304202       3000         3000   \n",
       "...            ...      ...        ...        ...          ...   \n",
       "466256    466256.0  9835883    9309502      15000        15000   \n",
       "466262    466262.0  9825193   11677266      14000        14000   \n",
       "466265    466265.0  9774870   11626983      32000        32000   \n",
       "466273    466273.0  9199716   11061625       6000         6000   \n",
       "466284    466284.0  9199665   11061576      10000        10000   \n",
       "\n",
       "        funded_amnt_inv        term  int_rate  installment grade  ...  \\\n",
       "0                4975.0   36 months     10.65       162.87     B  ...   \n",
       "2                2400.0   36 months     15.96        84.33     C  ...   \n",
       "8                5600.0   60 months     21.28       152.39     F  ...   \n",
       "30               4375.0   36 months      7.51       136.11     A  ...   \n",
       "42               3000.0   36 months     18.25       108.84     D  ...   \n",
       "...                 ...         ...       ...          ...   ...  ...   \n",
       "466256          15000.0   36 months     16.99       534.72     D  ...   \n",
       "466262          14000.0   36 months     16.24       493.86     C  ...   \n",
       "466265          31975.0   36 months      7.90      1001.29     A  ...   \n",
       "466273           6000.0   36 months     10.99       196.41     B  ...   \n",
       "466284           9975.0   36 months     19.20       367.58     D  ...   \n",
       "\n",
       "       total_bal_il il_util open_rv_12m open_rv_24m  max_bal_bc all_util  \\\n",
       "0               NaN     NaN         NaN         NaN         NaN      NaN   \n",
       "2               NaN     NaN         NaN         NaN         NaN      NaN   \n",
       "8               NaN     NaN         NaN         NaN         NaN      NaN   \n",
       "30              NaN     NaN         NaN         NaN         NaN      NaN   \n",
       "42              NaN     NaN         NaN         NaN         NaN      NaN   \n",
       "...             ...     ...         ...         ...         ...      ...   \n",
       "466256          NaN     NaN         NaN         NaN         NaN      NaN   \n",
       "466262          NaN     NaN         NaN         NaN         NaN      NaN   \n",
       "466265          NaN     NaN         NaN         NaN         NaN      NaN   \n",
       "466273          NaN     NaN         NaN         NaN         NaN      NaN   \n",
       "466284          NaN     NaN         NaN         NaN         NaN      NaN   \n",
       "\n",
       "       total_rev_hi_lim inq_fi total_cu_tl inq_last_12m  \n",
       "0                   NaN    NaN         NaN          NaN  \n",
       "2                   NaN    NaN         NaN          NaN  \n",
       "8                   NaN    NaN         NaN          NaN  \n",
       "30                  NaN    NaN         NaN          NaN  \n",
       "42                  NaN    NaN         NaN          NaN  \n",
       "...                 ...    ...         ...          ...  \n",
       "466256          29300.0    NaN         NaN          NaN  \n",
       "466262          24400.0    NaN         NaN          NaN  \n",
       "466265          30800.0    NaN         NaN          NaN  \n",
       "466273          25400.0    NaN         NaN          NaN  \n",
       "466284          16000.0    NaN         NaN          NaN  \n",
       "\n",
       "[27588 rows x 75 columns]"
      ]
     },
     "execution_count": 126,
     "metadata": {},
     "output_type": "execute_result"
    }
   ],
   "source": [
    "dataset[dataset['emp_title'].isnull()]"
   ]
  },
  {
   "cell_type": "code",
   "execution_count": 132,
   "id": "0c5376ef-16b6-4e57-b5c5-3d8c57b742fd",
   "metadata": {},
   "outputs": [],
   "source": [
    "dataset['emp_title'] = dataset['emp_title'].fillna('other')"
   ]
  },
  {
   "cell_type": "code",
   "execution_count": 134,
   "id": "2c377f01-ea3e-422c-941c-cac97d0b5171",
   "metadata": {},
   "outputs": [
    {
     "data": {
      "text/plain": [
       "0"
      ]
     },
     "execution_count": 134,
     "metadata": {},
     "output_type": "execute_result"
    }
   ],
   "source": [
    "dataset['emp_title'].isnull().sum()"
   ]
  },
  {
   "cell_type": "code",
   "execution_count": 135,
   "id": "05365c10-4b74-4a51-bf2d-bbbf36d76674",
   "metadata": {},
   "outputs": [],
   "source": [
    "dataset['dti'].fillna(dataset['dti'].mode()[0], inplace=True)"
   ]
  },
  {
   "cell_type": "code",
   "execution_count": 136,
   "id": "195cdde5-4ff4-4437-afc4-ac3e67741366",
   "metadata": {},
   "outputs": [
    {
     "data": {
      "text/plain": [
       "0"
      ]
     },
     "execution_count": 136,
     "metadata": {},
     "output_type": "execute_result"
    }
   ],
   "source": [
    "dataset['dti'].isnull().sum()"
   ]
  },
  {
   "cell_type": "code",
   "execution_count": 137,
   "id": "7656c6b4-36d2-46f5-9569-d131eac0ddbc",
   "metadata": {},
   "outputs": [],
   "source": [
    "dataset['funded_amnt'].fillna(dataset['funded_amnt'].mode()[0], inplace=True)"
   ]
  },
  {
   "cell_type": "code",
   "execution_count": 138,
   "id": "202d5435-6865-4bc8-a965-4685ba356be8",
   "metadata": {},
   "outputs": [
    {
     "data": {
      "text/plain": [
       "0"
      ]
     },
     "execution_count": 138,
     "metadata": {},
     "output_type": "execute_result"
    }
   ],
   "source": [
    "dataset['funded_amnt'].isnull().sum()"
   ]
  },
  {
   "cell_type": "code",
   "execution_count": 139,
   "id": "7c8e5030-4bfd-4e72-9f39-8a8e20cf700d",
   "metadata": {},
   "outputs": [],
   "source": [
    "dataset['out_prncp'].fillna(dataset['out_prncp'].mode()[0], inplace=True)"
   ]
  },
  {
   "cell_type": "code",
   "execution_count": 140,
   "id": "c7c44baf-e855-47e6-8891-75469ba06034",
   "metadata": {},
   "outputs": [
    {
     "data": {
      "text/plain": [
       "0"
      ]
     },
     "execution_count": 140,
     "metadata": {},
     "output_type": "execute_result"
    }
   ],
   "source": [
    "dataset['out_prncp'].isnull().sum()"
   ]
  },
  {
   "cell_type": "code",
   "execution_count": 149,
   "id": "409bf387-f009-4b18-af82-114967b7a405",
   "metadata": {},
   "outputs": [
    {
     "data": {
      "text/html": [
       "<div>\n",
       "<style scoped>\n",
       "    .dataframe tbody tr th:only-of-type {\n",
       "        vertical-align: middle;\n",
       "    }\n",
       "\n",
       "    .dataframe tbody tr th {\n",
       "        vertical-align: top;\n",
       "    }\n",
       "\n",
       "    .dataframe thead th {\n",
       "        text-align: right;\n",
       "    }\n",
       "</style>\n",
       "<table border=\"1\" class=\"dataframe\">\n",
       "  <thead>\n",
       "    <tr style=\"text-align: right;\">\n",
       "      <th></th>\n",
       "      <th>out_prncp</th>\n",
       "      <th>funded_amnt</th>\n",
       "      <th>term</th>\n",
       "      <th>int_rate</th>\n",
       "      <th>emp_title</th>\n",
       "      <th>dti</th>\n",
       "      <th>installment</th>\n",
       "    </tr>\n",
       "  </thead>\n",
       "  <tbody>\n",
       "    <tr>\n",
       "      <th>0</th>\n",
       "      <td>5684.61</td>\n",
       "      <td>5000</td>\n",
       "      <td>36 months</td>\n",
       "      <td>10.65</td>\n",
       "      <td>other</td>\n",
       "      <td>27.65</td>\n",
       "      <td>162.87</td>\n",
       "    </tr>\n",
       "    <tr>\n",
       "      <th>1</th>\n",
       "      <td>5684.61</td>\n",
       "      <td>2500</td>\n",
       "      <td>60 months</td>\n",
       "      <td>15.27</td>\n",
       "      <td>Ryder</td>\n",
       "      <td>1.00</td>\n",
       "      <td>59.83</td>\n",
       "    </tr>\n",
       "    <tr>\n",
       "      <th>2</th>\n",
       "      <td>5684.61</td>\n",
       "      <td>2400</td>\n",
       "      <td>36 months</td>\n",
       "      <td>15.96</td>\n",
       "      <td>other</td>\n",
       "      <td>8.72</td>\n",
       "      <td>84.33</td>\n",
       "    </tr>\n",
       "    <tr>\n",
       "      <th>3</th>\n",
       "      <td>5684.61</td>\n",
       "      <td>10000</td>\n",
       "      <td>36 months</td>\n",
       "      <td>13.49</td>\n",
       "      <td>AIR RESOURCES BOARD</td>\n",
       "      <td>20.00</td>\n",
       "      <td>339.31</td>\n",
       "    </tr>\n",
       "    <tr>\n",
       "      <th>4</th>\n",
       "      <td>766.90</td>\n",
       "      <td>3000</td>\n",
       "      <td>60 months</td>\n",
       "      <td>12.69</td>\n",
       "      <td>University Medical Group</td>\n",
       "      <td>17.94</td>\n",
       "      <td>67.79</td>\n",
       "    </tr>\n",
       "  </tbody>\n",
       "</table>\n",
       "</div>"
      ],
      "text/plain": [
       "   out_prncp  funded_amnt        term  int_rate                 emp_title  \\\n",
       "0    5684.61         5000   36 months     10.65                     other   \n",
       "1    5684.61         2500   60 months     15.27                     Ryder   \n",
       "2    5684.61         2400   36 months     15.96                     other   \n",
       "3    5684.61        10000   36 months     13.49       AIR RESOURCES BOARD   \n",
       "4     766.90         3000   60 months     12.69  University Medical Group   \n",
       "\n",
       "     dti  installment  \n",
       "0  27.65       162.87  \n",
       "1   1.00        59.83  \n",
       "2   8.72        84.33  \n",
       "3  20.00       339.31  \n",
       "4  17.94        67.79  "
      ]
     },
     "execution_count": 149,
     "metadata": {},
     "output_type": "execute_result"
    }
   ],
   "source": [
    "Feature = dataset[['out_prncp','funded_amnt','term','int_rate','emp_title','dti','installment']]\n",
    "#Feature = pd.concat([Feature,pd.get_dummies(dataset['emp_title'])], axis=1)\n",
    "#Feature.drop(['Master or Above'], axis = 1,inplace=True)\n",
    "Feature.head()"
   ]
  },
  {
   "cell_type": "code",
   "execution_count": null,
   "id": "8b6946dc-862a-4358-8603-794590955c9a",
   "metadata": {},
   "outputs": [],
   "source": [
    "from sklearn.preprocessing import LabelEncoder"
   ]
  },
  {
   "cell_type": "code",
   "execution_count": 153,
   "id": "271117a8-8e25-480f-9842-def9153701d2",
   "metadata": {},
   "outputs": [
    {
     "name": "stderr",
     "output_type": "stream",
     "text": [
      "C:\\Users\\HP\\AppData\\Local\\Temp\\ipykernel_6980\\182818666.py:2: SettingWithCopyWarning: \n",
      "A value is trying to be set on a copy of a slice from a DataFrame.\n",
      "Try using .loc[row_indexer,col_indexer] = value instead\n",
      "\n",
      "See the caveats in the documentation: https://pandas.pydata.org/pandas-docs/stable/user_guide/indexing.html#returning-a-view-versus-a-copy\n",
      "  Feature['term'] = le.fit_transform(Feature['term'])\n"
     ]
    }
   ],
   "source": [
    "le = LabelEncoder()\n",
    "Feature['term'] = le.fit_transform(Feature['term'])"
   ]
  },
  {
   "cell_type": "code",
   "execution_count": 154,
   "id": "13eb41df-f1e8-41d0-9fc8-5e1a57b03067",
   "metadata": {},
   "outputs": [
    {
     "data": {
      "text/html": [
       "<div>\n",
       "<style scoped>\n",
       "    .dataframe tbody tr th:only-of-type {\n",
       "        vertical-align: middle;\n",
       "    }\n",
       "\n",
       "    .dataframe tbody tr th {\n",
       "        vertical-align: top;\n",
       "    }\n",
       "\n",
       "    .dataframe thead th {\n",
       "        text-align: right;\n",
       "    }\n",
       "</style>\n",
       "<table border=\"1\" class=\"dataframe\">\n",
       "  <thead>\n",
       "    <tr style=\"text-align: right;\">\n",
       "      <th></th>\n",
       "      <th>out_prncp</th>\n",
       "      <th>funded_amnt</th>\n",
       "      <th>term</th>\n",
       "      <th>int_rate</th>\n",
       "      <th>emp_title</th>\n",
       "      <th>dti</th>\n",
       "      <th>installment</th>\n",
       "    </tr>\n",
       "  </thead>\n",
       "  <tbody>\n",
       "    <tr>\n",
       "      <th>0</th>\n",
       "      <td>5684.61</td>\n",
       "      <td>5000</td>\n",
       "      <td>0</td>\n",
       "      <td>10.65</td>\n",
       "      <td>other</td>\n",
       "      <td>27.65</td>\n",
       "      <td>162.87</td>\n",
       "    </tr>\n",
       "    <tr>\n",
       "      <th>1</th>\n",
       "      <td>5684.61</td>\n",
       "      <td>2500</td>\n",
       "      <td>1</td>\n",
       "      <td>15.27</td>\n",
       "      <td>Ryder</td>\n",
       "      <td>1.00</td>\n",
       "      <td>59.83</td>\n",
       "    </tr>\n",
       "  </tbody>\n",
       "</table>\n",
       "</div>"
      ],
      "text/plain": [
       "   out_prncp  funded_amnt  term  int_rate emp_title    dti  installment\n",
       "0    5684.61         5000     0     10.65     other  27.65       162.87\n",
       "1    5684.61         2500     1     15.27     Ryder   1.00        59.83"
      ]
     },
     "execution_count": 154,
     "metadata": {},
     "output_type": "execute_result"
    }
   ],
   "source": [
    "Feature.head(2)"
   ]
  },
  {
   "cell_type": "code",
   "execution_count": 156,
   "id": "a6890920-219d-4aa2-b6a0-98d66d647f51",
   "metadata": {},
   "outputs": [
    {
     "name": "stderr",
     "output_type": "stream",
     "text": [
      "C:\\Users\\HP\\AppData\\Local\\Temp\\ipykernel_6980\\2239768996.py:1: SettingWithCopyWarning: \n",
      "A value is trying to be set on a copy of a slice from a DataFrame.\n",
      "Try using .loc[row_indexer,col_indexer] = value instead\n",
      "\n",
      "See the caveats in the documentation: https://pandas.pydata.org/pandas-docs/stable/user_guide/indexing.html#returning-a-view-versus-a-copy\n",
      "  Feature['emp_title']=le.fit_transform(Feature['emp_title'])\n"
     ]
    }
   ],
   "source": [
    "Feature['emp_title']=le.fit_transform(Feature['emp_title'])"
   ]
  },
  {
   "cell_type": "code",
   "execution_count": 157,
   "id": "51ead5fd-a04f-400f-88cc-5f71def0cb27",
   "metadata": {},
   "outputs": [
    {
     "data": {
      "text/html": [
       "<div>\n",
       "<style scoped>\n",
       "    .dataframe tbody tr th:only-of-type {\n",
       "        vertical-align: middle;\n",
       "    }\n",
       "\n",
       "    .dataframe tbody tr th {\n",
       "        vertical-align: top;\n",
       "    }\n",
       "\n",
       "    .dataframe thead th {\n",
       "        text-align: right;\n",
       "    }\n",
       "</style>\n",
       "<table border=\"1\" class=\"dataframe\">\n",
       "  <thead>\n",
       "    <tr style=\"text-align: right;\">\n",
       "      <th></th>\n",
       "      <th>out_prncp</th>\n",
       "      <th>funded_amnt</th>\n",
       "      <th>term</th>\n",
       "      <th>int_rate</th>\n",
       "      <th>emp_title</th>\n",
       "      <th>dti</th>\n",
       "      <th>installment</th>\n",
       "    </tr>\n",
       "  </thead>\n",
       "  <tbody>\n",
       "    <tr>\n",
       "      <th>0</th>\n",
       "      <td>5684.61</td>\n",
       "      <td>5000</td>\n",
       "      <td>0</td>\n",
       "      <td>10.65</td>\n",
       "      <td>194465</td>\n",
       "      <td>27.65</td>\n",
       "      <td>162.87</td>\n",
       "    </tr>\n",
       "    <tr>\n",
       "      <th>1</th>\n",
       "      <td>5684.61</td>\n",
       "      <td>2500</td>\n",
       "      <td>1</td>\n",
       "      <td>15.27</td>\n",
       "      <td>131796</td>\n",
       "      <td>1.00</td>\n",
       "      <td>59.83</td>\n",
       "    </tr>\n",
       "  </tbody>\n",
       "</table>\n",
       "</div>"
      ],
      "text/plain": [
       "   out_prncp  funded_amnt  term  int_rate  emp_title    dti  installment\n",
       "0    5684.61         5000     0     10.65     194465  27.65       162.87\n",
       "1    5684.61         2500     1     15.27     131796   1.00        59.83"
      ]
     },
     "execution_count": 157,
     "metadata": {},
     "output_type": "execute_result"
    }
   ],
   "source": [
    "Feature.head(2)"
   ]
  },
  {
   "cell_type": "code",
   "execution_count": 183,
   "id": "f0a6bfec-2548-45f8-a08b-1328bdf1d9a3",
   "metadata": {},
   "outputs": [],
   "source": [
    "dataset['loan_status']=le.fit_transform(dataset['loan_status'])"
   ]
  },
  {
   "cell_type": "code",
   "execution_count": 185,
   "id": "e833e7fb-7ecf-4498-9428-1a0cd013abdf",
   "metadata": {},
   "outputs": [
    {
     "data": {
      "text/plain": [
       "0    5\n",
       "1    0\n",
       "Name: loan_status, dtype: int32"
      ]
     },
     "execution_count": 185,
     "metadata": {},
     "output_type": "execute_result"
    }
   ],
   "source": [
    "dataset['loan_status'].head(2)"
   ]
  },
  {
   "cell_type": "markdown",
   "id": "656e8c05-f66e-44d1-ac37-e7dbfb5cac49",
   "metadata": {},
   "source": [
    "## Scaling"
   ]
  },
  {
   "cell_type": "code",
   "execution_count": 186,
   "id": "5ae670a5-30b8-4985-992d-ad385622e96f",
   "metadata": {},
   "outputs": [],
   "source": [
    "from sklearn.preprocessing import MinMaxScaler\n",
    "from sklearn import preprocessing"
   ]
  },
  {
   "cell_type": "code",
   "execution_count": 187,
   "id": "9d5b0646-b62b-4f05-863b-5efa1968593f",
   "metadata": {},
   "outputs": [
    {
     "name": "stderr",
     "output_type": "stream",
     "text": [
      "C:\\Users\\HP\\AppData\\Local\\Temp\\ipykernel_6980\\3038286092.py:2: SettingWithCopyWarning: \n",
      "A value is trying to be set on a copy of a slice from a DataFrame.\n",
      "Try using .loc[row_indexer,col_indexer] = value instead\n",
      "\n",
      "See the caveats in the documentation: https://pandas.pydata.org/pandas-docs/stable/user_guide/indexing.html#returning-a-view-versus-a-copy\n",
      "  Feature['funded_amnt'] = scale.fit_transform(np.array(Feature['funded_amnt']).reshape(-1,1))\n"
     ]
    }
   ],
   "source": [
    "scale = MinMaxScaler()\n",
    "Feature['funded_amnt'] = scale.fit_transform(np.array(Feature['funded_amnt']).reshape(-1,1))"
   ]
  },
  {
   "cell_type": "code",
   "execution_count": 188,
   "id": "7527ff37-71b0-47a7-a5da-997a00d7ba00",
   "metadata": {},
   "outputs": [
    {
     "data": {
      "text/html": [
       "<div>\n",
       "<style scoped>\n",
       "    .dataframe tbody tr th:only-of-type {\n",
       "        vertical-align: middle;\n",
       "    }\n",
       "\n",
       "    .dataframe tbody tr th {\n",
       "        vertical-align: top;\n",
       "    }\n",
       "\n",
       "    .dataframe thead th {\n",
       "        text-align: right;\n",
       "    }\n",
       "</style>\n",
       "<table border=\"1\" class=\"dataframe\">\n",
       "  <thead>\n",
       "    <tr style=\"text-align: right;\">\n",
       "      <th></th>\n",
       "      <th>out_prncp</th>\n",
       "      <th>funded_amnt</th>\n",
       "      <th>term</th>\n",
       "      <th>int_rate</th>\n",
       "      <th>emp_title</th>\n",
       "      <th>dti</th>\n",
       "      <th>installment</th>\n",
       "    </tr>\n",
       "  </thead>\n",
       "  <tbody>\n",
       "    <tr>\n",
       "      <th>0</th>\n",
       "      <td>5684.61</td>\n",
       "      <td>0.130435</td>\n",
       "      <td>0</td>\n",
       "      <td>10.65</td>\n",
       "      <td>194465</td>\n",
       "      <td>27.65</td>\n",
       "      <td>162.87</td>\n",
       "    </tr>\n",
       "    <tr>\n",
       "      <th>1</th>\n",
       "      <td>5684.61</td>\n",
       "      <td>0.057971</td>\n",
       "      <td>1</td>\n",
       "      <td>15.27</td>\n",
       "      <td>131796</td>\n",
       "      <td>1.00</td>\n",
       "      <td>59.83</td>\n",
       "    </tr>\n",
       "  </tbody>\n",
       "</table>\n",
       "</div>"
      ],
      "text/plain": [
       "   out_prncp  funded_amnt  term  int_rate  emp_title    dti  installment\n",
       "0    5684.61     0.130435     0     10.65     194465  27.65       162.87\n",
       "1    5684.61     0.057971     1     15.27     131796   1.00        59.83"
      ]
     },
     "execution_count": 188,
     "metadata": {},
     "output_type": "execute_result"
    }
   ],
   "source": [
    "Feature.head(2)"
   ]
  },
  {
   "cell_type": "code",
   "execution_count": 189,
   "id": "a82fcb5b-b7af-42a0-9a4b-0ecb2c4ba4c1",
   "metadata": {},
   "outputs": [],
   "source": [
    "X = Feature"
   ]
  },
  {
   "cell_type": "code",
   "execution_count": 190,
   "id": "30bf6dfd-e969-40a5-9857-fe48d3699692",
   "metadata": {},
   "outputs": [
    {
     "data": {
      "text/html": [
       "<div>\n",
       "<style scoped>\n",
       "    .dataframe tbody tr th:only-of-type {\n",
       "        vertical-align: middle;\n",
       "    }\n",
       "\n",
       "    .dataframe tbody tr th {\n",
       "        vertical-align: top;\n",
       "    }\n",
       "\n",
       "    .dataframe thead th {\n",
       "        text-align: right;\n",
       "    }\n",
       "</style>\n",
       "<table border=\"1\" class=\"dataframe\">\n",
       "  <thead>\n",
       "    <tr style=\"text-align: right;\">\n",
       "      <th></th>\n",
       "      <th>out_prncp</th>\n",
       "      <th>funded_amnt</th>\n",
       "      <th>term</th>\n",
       "      <th>int_rate</th>\n",
       "      <th>emp_title</th>\n",
       "      <th>dti</th>\n",
       "      <th>installment</th>\n",
       "    </tr>\n",
       "  </thead>\n",
       "  <tbody>\n",
       "    <tr>\n",
       "      <th>0</th>\n",
       "      <td>5684.61</td>\n",
       "      <td>0.130435</td>\n",
       "      <td>0</td>\n",
       "      <td>10.65</td>\n",
       "      <td>194465</td>\n",
       "      <td>27.65</td>\n",
       "      <td>162.87</td>\n",
       "    </tr>\n",
       "    <tr>\n",
       "      <th>1</th>\n",
       "      <td>5684.61</td>\n",
       "      <td>0.057971</td>\n",
       "      <td>1</td>\n",
       "      <td>15.27</td>\n",
       "      <td>131796</td>\n",
       "      <td>1.00</td>\n",
       "      <td>59.83</td>\n",
       "    </tr>\n",
       "    <tr>\n",
       "      <th>2</th>\n",
       "      <td>5684.61</td>\n",
       "      <td>0.055072</td>\n",
       "      <td>0</td>\n",
       "      <td>15.96</td>\n",
       "      <td>194465</td>\n",
       "      <td>8.72</td>\n",
       "      <td>84.33</td>\n",
       "    </tr>\n",
       "    <tr>\n",
       "      <th>3</th>\n",
       "      <td>5684.61</td>\n",
       "      <td>0.275362</td>\n",
       "      <td>0</td>\n",
       "      <td>13.49</td>\n",
       "      <td>2257</td>\n",
       "      <td>20.00</td>\n",
       "      <td>339.31</td>\n",
       "    </tr>\n",
       "    <tr>\n",
       "      <th>4</th>\n",
       "      <td>766.90</td>\n",
       "      <td>0.072464</td>\n",
       "      <td>1</td>\n",
       "      <td>12.69</td>\n",
       "      <td>165724</td>\n",
       "      <td>17.94</td>\n",
       "      <td>67.79</td>\n",
       "    </tr>\n",
       "    <tr>\n",
       "      <th>...</th>\n",
       "      <td>...</td>\n",
       "      <td>...</td>\n",
       "      <td>...</td>\n",
       "      <td>...</td>\n",
       "      <td>...</td>\n",
       "      <td>...</td>\n",
       "      <td>...</td>\n",
       "    </tr>\n",
       "    <tr>\n",
       "      <th>466280</th>\n",
       "      <td>12574.00</td>\n",
       "      <td>0.518841</td>\n",
       "      <td>1</td>\n",
       "      <td>14.47</td>\n",
       "      <td>59755</td>\n",
       "      <td>19.85</td>\n",
       "      <td>432.64</td>\n",
       "    </tr>\n",
       "    <tr>\n",
       "      <th>466281</th>\n",
       "      <td>5684.61</td>\n",
       "      <td>0.623188</td>\n",
       "      <td>1</td>\n",
       "      <td>19.97</td>\n",
       "      <td>30516</td>\n",
       "      <td>18.45</td>\n",
       "      <td>582.50</td>\n",
       "    </tr>\n",
       "    <tr>\n",
       "      <th>466282</th>\n",
       "      <td>14428.31</td>\n",
       "      <td>0.585507</td>\n",
       "      <td>1</td>\n",
       "      <td>16.99</td>\n",
       "      <td>195139</td>\n",
       "      <td>25.65</td>\n",
       "      <td>514.34</td>\n",
       "    </tr>\n",
       "    <tr>\n",
       "      <th>466283</th>\n",
       "      <td>5684.61</td>\n",
       "      <td>0.043478</td>\n",
       "      <td>0</td>\n",
       "      <td>7.90</td>\n",
       "      <td>141073</td>\n",
       "      <td>5.39</td>\n",
       "      <td>62.59</td>\n",
       "    </tr>\n",
       "    <tr>\n",
       "      <th>466284</th>\n",
       "      <td>3984.38</td>\n",
       "      <td>0.275362</td>\n",
       "      <td>0</td>\n",
       "      <td>19.20</td>\n",
       "      <td>194465</td>\n",
       "      <td>22.78</td>\n",
       "      <td>367.58</td>\n",
       "    </tr>\n",
       "  </tbody>\n",
       "</table>\n",
       "<p>466285 rows × 7 columns</p>\n",
       "</div>"
      ],
      "text/plain": [
       "        out_prncp  funded_amnt  term  int_rate  emp_title    dti  installment\n",
       "0         5684.61     0.130435     0     10.65     194465  27.65       162.87\n",
       "1         5684.61     0.057971     1     15.27     131796   1.00        59.83\n",
       "2         5684.61     0.055072     0     15.96     194465   8.72        84.33\n",
       "3         5684.61     0.275362     0     13.49       2257  20.00       339.31\n",
       "4          766.90     0.072464     1     12.69     165724  17.94        67.79\n",
       "...           ...          ...   ...       ...        ...    ...          ...\n",
       "466280   12574.00     0.518841     1     14.47      59755  19.85       432.64\n",
       "466281    5684.61     0.623188     1     19.97      30516  18.45       582.50\n",
       "466282   14428.31     0.585507     1     16.99     195139  25.65       514.34\n",
       "466283    5684.61     0.043478     0      7.90     141073   5.39        62.59\n",
       "466284    3984.38     0.275362     0     19.20     194465  22.78       367.58\n",
       "\n",
       "[466285 rows x 7 columns]"
      ]
     },
     "execution_count": 190,
     "metadata": {},
     "output_type": "execute_result"
    }
   ],
   "source": [
    "X"
   ]
  },
  {
   "cell_type": "code",
   "execution_count": 191,
   "id": "8e798137-dadf-47f4-a3bc-b4089ff3a1dc",
   "metadata": {},
   "outputs": [],
   "source": [
    "y = dataset['loan_status'].values"
   ]
  },
  {
   "cell_type": "code",
   "execution_count": 192,
   "id": "27b8079e-ecc2-491c-89b4-88cb156de58f",
   "metadata": {},
   "outputs": [
    {
     "data": {
      "text/plain": [
       "array([5, 0, 5, ..., 1, 5, 1])"
      ]
     },
     "execution_count": 192,
     "metadata": {},
     "output_type": "execute_result"
    }
   ],
   "source": [
    "y"
   ]
  },
  {
   "cell_type": "code",
   "execution_count": 193,
   "id": "cf1fd8a6-e2d0-42ae-b021-2b85cbeedc81",
   "metadata": {},
   "outputs": [],
   "source": [
    "#normalize data "
   ]
  },
  {
   "cell_type": "code",
   "execution_count": 194,
   "id": "23bb1ce4-5eb2-441d-9053-3d0d481173ff",
   "metadata": {},
   "outputs": [],
   "source": [
    "X= preprocessing.StandardScaler().fit(X).transform(X)"
   ]
  },
  {
   "cell_type": "code",
   "execution_count": 195,
   "id": "9b3405dc-05d0-4bbf-b5d1-a019bf7159a3",
   "metadata": {},
   "outputs": [
    {
     "data": {
      "text/plain": [
       "array([[-0.31394761, -1.12296278, -0.61622502, ...,  1.38536357,\n",
       "         1.32963071, -1.10557481],\n",
       "       [-0.31394761, -1.42510086,  1.62278383, ...,  0.35730221,\n",
       "        -2.07099793, -1.52876259],\n",
       "       [-0.31394761, -1.43718639, -0.61622502, ...,  1.38536357,\n",
       "        -1.08590025, -1.42814049],\n",
       "       ...,\n",
       "       [ 1.48087558,  0.77446438,  1.62278383, ...,  1.39642028,\n",
       "         1.07442406,  0.33792103],\n",
       "       [-0.31394761, -1.48552848, -0.61622502, ...,  0.5094879 ,\n",
       "        -1.51081933, -1.5174272 ],\n",
       "       [-0.66295458, -0.51868662, -0.61622502, ...,  1.38536357,\n",
       "         0.70820251, -0.26482586]])"
      ]
     },
     "execution_count": 195,
     "metadata": {},
     "output_type": "execute_result"
    }
   ],
   "source": [
    "X"
   ]
  },
  {
   "cell_type": "markdown",
   "id": "d5e2faed-1244-4126-a0ba-611336c289e4",
   "metadata": {},
   "source": [
    "## Modeling "
   ]
  },
  {
   "cell_type": "code",
   "execution_count": 196,
   "id": "07e26d3e-f0b0-4329-a53c-39afb92241d2",
   "metadata": {},
   "outputs": [],
   "source": [
    "from sklearn.linear_model import LogisticRegression\n",
    "from sklearn.model_selection import train_test_split"
   ]
  },
  {
   "cell_type": "code",
   "execution_count": 197,
   "id": "08cc7924-a1cd-4d8f-be4a-4339bad65e6c",
   "metadata": {},
   "outputs": [],
   "source": [
    "X_train, X_test, y_train, y_test = train_test_split(X, y, test_size=0.2)"
   ]
  },
  {
   "cell_type": "markdown",
   "id": "5742854d-c783-4e43-8b38-1a062f71bb97",
   "metadata": {},
   "source": [
    "#### KNN"
   ]
  },
  {
   "cell_type": "code",
   "execution_count": 208,
   "id": "e2878d21-4efb-40fb-9497-748f7d6afa75",
   "metadata": {},
   "outputs": [
    {
     "data": {
      "text/plain": [
       "array([0.75591108, 0.72841717, 0.78952786, 0.78662192, 0.80264216,\n",
       "       0.80086213, 0.80723163, 0.80615932, 0.80974082, 0.80845406,\n",
       "       0.81012685])"
      ]
     },
     "execution_count": 208,
     "metadata": {},
     "output_type": "execute_result"
    }
   ],
   "source": [
    "#Training\n",
    "from sklearn.neighbors import KNeighborsClassifier\n",
    "from sklearn import metrics\n",
    "\n",
    "Ks = 12\n",
    "mean_acc = np.zeros((Ks-1))\n",
    "std_acc = np.zeros((Ks-1))\n",
    "ConfustionMtx=[];\n",
    "for n in range(1,Ks):\n",
    "    neigh = KNeighborsClassifier(n_neighbors=n).fit(X_train, y_train)\n",
    "    yhat = neigh.predict(X_test)\n",
    "    mean_acc[n-1] = metrics.accuracy_score(y_test, yhat)\n",
    "    std_acc[n-1] = np.std(yhat==y_test)/np.sqrt(yhat.shape[0])\n",
    "mean_acc"
   ]
  },
  {
   "cell_type": "code",
   "execution_count": 209,
   "id": "5a5d4bf6-60b1-42d7-ad2f-7633ce39520f",
   "metadata": {},
   "outputs": [
    {
     "data": {
      "image/png": "[encoded data removed]",
      "text/plain": [
       "<Figure size 432x288 with 1 Axes>"
      ]
     },
     "metadata": {
      "needs_background": "light"
     },
     "output_type": "display_data"
    },
    {
     "name": "stdout",
     "output_type": "stream",
     "text": [
      "The best accuracy was with 0.8101268537482441 with k= 11\n"
     ]
    }
   ],
   "source": [
    "plt.plot(range(1,Ks),mean_acc)\n",
    "plt.fill_between(range(1,Ks),mean_acc - 1 * std_acc,mean_acc + 1 * std_acc, alpha=0.10)\n",
    "plt.legend(('Accuracy ', '+/- 3xstd'))\n",
    "plt.ylabel('Accuracy ')\n",
    "plt.xlabel('Number of Neighbors (K)')\n",
    "plt.tight_layout()\n",
    "plt.show()\n",
    "\n",
    "print( \"The best accuracy was with\", mean_acc.max(), \"with k=\", mean_acc.argmax()+1) \n",
    "\n",
    "neigh = KNeighborsClassifier(n_neighbors=mean_acc.argmax()+1).fit(X_train, y_train)"
   ]
  },
  {
   "cell_type": "code",
   "execution_count": 210,
   "id": "678e199b-4630-49e5-8753-101b03a12436",
   "metadata": {},
   "outputs": [
    {
     "name": "stdout",
     "output_type": "stream",
     "text": [
      "The best accuracy was with 0.8101268537482441 with k= 11\n"
     ]
    }
   ],
   "source": [
    "print( \"The best accuracy was with\", mean_acc.max(), \"with k=\", mean_acc.argmax()+1)"
   ]
  },
  {
   "cell_type": "code",
   "execution_count": 211,
   "id": "aeaee40d-0366-4d55-844b-62550c9551e0",
   "metadata": {},
   "outputs": [
    {
     "data": {
      "text/plain": [
       "KNeighborsClassifier(n_neighbors=7)"
      ]
     },
     "execution_count": 211,
     "metadata": {},
     "output_type": "execute_result"
    }
   ],
   "source": [
    "k = 7\n",
    "# Train Model and Predict  \n",
    "loanknn = KNeighborsClassifier(n_neighbors = k).fit(X_train,y_train)\n",
    "loanknn"
   ]
  },
  {
   "cell_type": "code",
   "execution_count": 213,
   "id": "fe825f9b-8075-4931-9742-1412eee27365",
   "metadata": {},
   "outputs": [
    {
     "data": {
      "text/plain": [
       "array([5, 5, 1, ..., 5, 5, 1])"
      ]
     },
     "execution_count": 213,
     "metadata": {},
     "output_type": "execute_result"
    }
   ],
   "source": [
    "yhat = loanknn.predict(X_test)\n",
    "yhat"
   ]
  },
  {
   "cell_type": "code",
   "execution_count": 214,
   "id": "5e995df0-963e-4647-92a3-b3cd44fefca9",
   "metadata": {},
   "outputs": [
    {
     "name": "stdout",
     "output_type": "stream",
     "text": [
      "Train set Accuracy:  0.8394034764146391\n",
      "Test set Accuracy:  0.8072316287249215\n"
     ]
    }
   ],
   "source": [
    "print(\"Train set Accuracy: \", metrics.accuracy_score(y_train, loanknn.predict(X_train)))\n",
    "print(\"Test set Accuracy: \", metrics.accuracy_score(y_test, yhat))"
   ]
  },
  {
   "cell_type": "code",
   "execution_count": 215,
   "id": "550e0d51-036b-44ea-9621-1e5831597bfb",
   "metadata": {},
   "outputs": [
    {
     "name": "stdout",
     "output_type": "stream",
     "text": [
      "              precision    recall  f1-score   support\n",
      "\n",
      "           0       0.29      0.13      0.18      8537\n",
      "           1       0.94      0.89      0.91     45029\n",
      "           2       0.00      0.00      0.00       151\n",
      "           3       0.00      0.00      0.00       154\n",
      "           4       0.25      0.00      0.01       367\n",
      "           5       0.73      0.93      0.82     36765\n",
      "           6       0.00      0.00      0.00       633\n",
      "           7       0.00      0.00      0.00       248\n",
      "           8       0.00      0.00      0.00      1373\n",
      "\n",
      "    accuracy                           0.81     93257\n",
      "   macro avg       0.25      0.22      0.21     93257\n",
      "weighted avg       0.77      0.81      0.78     93257\n",
      "\n"
     ]
    },
    {
     "name": "stderr",
     "output_type": "stream",
     "text": [
      "C:\\Users\\HP\\anaconda3\\lib\\site-packages\\sklearn\\metrics\\_classification.py:1318: UndefinedMetricWarning: Precision and F-score are ill-defined and being set to 0.0 in labels with no predicted samples. Use `zero_division` parameter to control this behavior.\n",
      "  _warn_prf(average, modifier, msg_start, len(result))\n",
      "C:\\Users\\HP\\anaconda3\\lib\\site-packages\\sklearn\\metrics\\_classification.py:1318: UndefinedMetricWarning: Precision and F-score are ill-defined and being set to 0.0 in labels with no predicted samples. Use `zero_division` parameter to control this behavior.\n",
      "  _warn_prf(average, modifier, msg_start, len(result))\n",
      "C:\\Users\\HP\\anaconda3\\lib\\site-packages\\sklearn\\metrics\\_classification.py:1318: UndefinedMetricWarning: Precision and F-score are ill-defined and being set to 0.0 in labels with no predicted samples. Use `zero_division` parameter to control this behavior.\n",
      "  _warn_prf(average, modifier, msg_start, len(result))\n"
     ]
    }
   ],
   "source": [
    "from sklearn.metrics import classification_report\n",
    "\n",
    "print (classification_report(y_test, yhat))"
   ]
  },
  {
   "cell_type": "code",
   "execution_count": 216,
   "id": "35a6df08-520a-45a3-a2ec-c7c1d529f031",
   "metadata": {},
   "outputs": [
    {
     "data": {
      "text/plain": [
       "0.7795187477329514"
      ]
     },
     "execution_count": 216,
     "metadata": {},
     "output_type": "execute_result"
    }
   ],
   "source": [
    "from sklearn.metrics import f1_score\n",
    "f1_score(y_test, yhat, average='weighted')"
   ]
  },
  {
   "cell_type": "code",
   "execution_count": 217,
   "id": "31eb6758-cda1-4969-a774-d14c9b57f226",
   "metadata": {},
   "outputs": [
    {
     "data": {
      "text/plain": [
       "0.6871848331642375"
      ]
     },
     "execution_count": 217,
     "metadata": {},
     "output_type": "execute_result"
    }
   ],
   "source": [
    "from sklearn.metrics import jaccard_score\n",
    "jaccard_score(y_test, yhat,average='weighted')"
   ]
  },
  {
   "cell_type": "markdown",
   "id": "eba7b6a5-7d64-42c4-9c46-1cce0cab28a8",
   "metadata": {},
   "source": [
    "#### Decision tree"
   ]
  },
  {
   "cell_type": "code",
   "execution_count": 219,
   "id": "9ca74031-f2e0-477b-9f76-f94e839e0867",
   "metadata": {},
   "outputs": [],
   "source": [
    "from sklearn.tree import DecisionTreeClassifier"
   ]
  },
  {
   "cell_type": "code",
   "execution_count": 220,
   "id": "7816f1e0-425f-47ef-96f9-deef2d514d24",
   "metadata": {},
   "outputs": [
    {
     "data": {
      "text/plain": [
       "array([0.674759  , 0.87680281, 0.87680281, 0.87683498, 0.87684571,\n",
       "       0.87686715, 0.87717812, 0.87704944, 0.87695294])"
      ]
     },
     "execution_count": 220,
     "metadata": {},
     "output_type": "execute_result"
    }
   ],
   "source": [
    "md = 10\n",
    "mean_acc = np.zeros((md-1))\n",
    "std_acc = np.zeros((md-1))\n",
    "ConfustionMx = [];\n",
    "for n in range(1,md):\n",
    "    \n",
    "    #Train Model and Predict  \n",
    "    loant = DecisionTreeClassifier(criterion=\"entropy\", max_depth = n).fit(X_train,y_train)\n",
    "    yhat=loant.predict(X_test)\n",
    "    mean_acc[n-1] = metrics.accuracy_score(y_test, yhat)\n",
    "\n",
    "    \n",
    "    std_acc[n-1]=np.std(yhat==y_test)/np.sqrt(yhat.shape[0])\n",
    "\n",
    "mean_acc"
   ]
  },
  {
   "cell_type": "code",
   "execution_count": 221,
   "id": "c90c6b1b-c363-48e7-b379-daf0f40c6cb7",
   "metadata": {},
   "outputs": [
    {
     "data": {
      "image/png": "[encoded data removed]",
      "text/plain": [
       "<Figure size 432x288 with 1 Axes>"
      ]
     },
     "metadata": {
      "needs_background": "light"
     },
     "output_type": "display_data"
    }
   ],
   "source": [
    "plt.plot(range(1,md),mean_acc,'r')\n",
    "plt.fill_between(range(1,md),mean_acc - 1 * std_acc,mean_acc + 1 * std_acc, alpha=0.10)\n",
    "plt.legend(('Accuracy ', '+/- 3xstd'))\n",
    "plt.ylabel('Accuracy ')\n",
    "plt.xlabel('Number of Max Depth')\n",
    "plt.tight_layout()\n",
    "plt.show()"
   ]
  },
  {
   "cell_type": "code",
   "execution_count": 222,
   "id": "e1191da2-5b70-4008-8d1a-379e6b41a2fc",
   "metadata": {},
   "outputs": [],
   "source": [
    "#Building the decision tree with max depth of 6\n",
    "loandt = DecisionTreeClassifier(criterion=\"entropy\", max_depth = 6)\n",
    "\n",
    "# Check the default parameters\n",
    "loandt \n",
    "\n",
    "# Train the Decision tree model\n",
    "loandt.fit(X_train,y_train)\n",
    "\n",
    "# Predict using the model\n",
    "yhat= loandt.predict(X_test)"
   ]
  },
  {
   "cell_type": "code",
   "execution_count": 223,
   "id": "5a01c290-067a-409c-b2ed-703ed57bacf5",
   "metadata": {},
   "outputs": [
    {
     "name": "stdout",
     "output_type": "stream",
     "text": [
      "Train set Accuracy:  0.8770360401900126\n",
      "Test set Accuracy:  0.876877875119294\n",
      "              precision    recall  f1-score   support\n",
      "\n",
      "           0       0.00      0.00      0.00      8537\n",
      "           1       0.95      1.00      0.97     45029\n",
      "           2       0.00      0.00      0.00       151\n",
      "           3       0.00      0.00      0.00       154\n",
      "           4       0.00      0.00      0.00       367\n",
      "           5       0.80      1.00      0.89     36765\n",
      "           6       0.00      0.00      0.00       633\n",
      "           7       0.00      0.00      0.00       248\n",
      "           8       0.56      0.01      0.02      1373\n",
      "\n",
      "    accuracy                           0.88     93257\n",
      "   macro avg       0.26      0.22      0.21     93257\n",
      "weighted avg       0.78      0.88      0.82     93257\n",
      "\n"
     ]
    },
    {
     "name": "stderr",
     "output_type": "stream",
     "text": [
      "C:\\Users\\HP\\anaconda3\\lib\\site-packages\\sklearn\\metrics\\_classification.py:1318: UndefinedMetricWarning: Precision and F-score are ill-defined and being set to 0.0 in labels with no predicted samples. Use `zero_division` parameter to control this behavior.\n",
      "  _warn_prf(average, modifier, msg_start, len(result))\n",
      "C:\\Users\\HP\\anaconda3\\lib\\site-packages\\sklearn\\metrics\\_classification.py:1318: UndefinedMetricWarning: Precision and F-score are ill-defined and being set to 0.0 in labels with no predicted samples. Use `zero_division` parameter to control this behavior.\n",
      "  _warn_prf(average, modifier, msg_start, len(result))\n",
      "C:\\Users\\HP\\anaconda3\\lib\\site-packages\\sklearn\\metrics\\_classification.py:1318: UndefinedMetricWarning: Precision and F-score are ill-defined and being set to 0.0 in labels with no predicted samples. Use `zero_division` parameter to control this behavior.\n",
      "  _warn_prf(average, modifier, msg_start, len(result))\n"
     ]
    }
   ],
   "source": [
    "#Calculating the train and test accuracy\n",
    "print(\"Train set Accuracy: \", metrics.accuracy_score(y_train, loandt.predict(X_train)))\n",
    "print(\"Test set Accuracy: \", metrics.accuracy_score(y_test, yhat))\n",
    "#Building the confusion matrix\n",
    "print (classification_report(y_test, yhat))"
   ]
  },
  {
   "cell_type": "code",
   "execution_count": 224,
   "id": "1fa97424-b39c-441b-aecc-ef0b47fab7ab",
   "metadata": {},
   "outputs": [
    {
     "data": {
      "text/plain": [
       "0.8213892768631871"
      ]
     },
     "execution_count": 224,
     "metadata": {},
     "output_type": "execute_result"
    }
   ],
   "source": [
    "# Calculate the F1 score\n",
    "f1_score(y_test, yhat, average='weighted')"
   ]
  },
  {
   "cell_type": "code",
   "execution_count": 225,
   "id": "bb3eb2ab-9a6c-40d9-a050-5a166fec45d2",
   "metadata": {},
   "outputs": [
    {
     "data": {
      "text/plain": [
       "0.7744906610013577"
      ]
     },
     "execution_count": 225,
     "metadata": {},
     "output_type": "execute_result"
    }
   ],
   "source": [
    "# Calculate the jaccard index\n",
    "jaccard_score(y_test, yhat,average='weighted')"
   ]
  },
  {
   "cell_type": "code",
   "execution_count": null,
   "id": "1a9cfcb5-b2fc-423c-b66c-0e7331954992",
   "metadata": {},
   "outputs": [],
   "source": []
  },
  {
   "cell_type": "code",
   "execution_count": null,
   "id": "a07b6ced-a89f-4ae4-8b9e-cf6a37369e23",
   "metadata": {},
   "outputs": [],
   "source": []
  },
  {
   "cell_type": "code",
   "execution_count": null,
   "id": "712d9af9-ee6f-419d-951c-e8605cd18a2e",
   "metadata": {},
   "outputs": [],
   "source": []
  }
 ],
 "metadata": {
  "kernelspec": {
   "display_name": "Python 3 (ipykernel)",
   "language": "python",
   "name": "python3"
  },
  "language_info": {
   "codemirror_mode": {
    "name": "ipython",
    "version": 3
   },
   "file_extension": ".py",
   "mimetype": "text/x-python",
   "name": "python",
   "nbconvert_exporter": "python",
   "pygments_lexer": "ipython3",
   "version": "3.9.12"
  }
 },
 "nbformat": 4,
 "nbformat_minor": 5
}
